{
 "cells": [
  {
   "cell_type": "code",
   "execution_count": 3,
   "id": "e78e611c",
   "metadata": {},
   "outputs": [
    {
     "name": "stdout",
     "output_type": "stream",
     "text": [
      "(4, 3)\n"
     ]
    }
   ],
   "source": [
    "import numpy as np\n",
    "\n",
    "arr = [['나는', '사과를', '좋아해'], \n",
    "       ['나는', '바나나를', '좋아해'], \n",
    "       ['나는', '사과를', '싫어해'], \n",
    "       ['나는', '바나나를', '싫어해']]\n",
    "arr = np.array(arr)\n",
    "print(arr.shape)"
   ]
  },
  {
   "cell_type": "code",
   "execution_count": 6,
   "id": "613d4a14",
   "metadata": {},
   "outputs": [
    {
     "name": "stdout",
     "output_type": "stream",
     "text": [
      "(4, 3, 3)\n"
     ]
    }
   ],
   "source": [
    "arr = \\\n",
    "[[[0.1, 0.2, 0.9], [0.3, 0.5, 0.1], [0.7, 0.6, 0.5]],\n",
    " [[0.1, 0.2, 0.9], [0.3, 0.5, 0.2], [0.7, 0.6, 0.5]],\n",
    " [[0.1, 0.2, 0.9], [0.3, 0.5, 0.1], [0.5, 0.6, 0.7]],\n",
    " [[0.1, 0.2, 0.9], [0.3, 0.5, 0.2], [0.5, 0.6, 0.7]]]\n",
    "arr = np.array(arr)\n",
    "print(arr.shape)"
   ]
  },
  {
   "cell_type": "code",
   "execution_count": 23,
   "id": "f4c1e550",
   "metadata": {},
   "outputs": [
    {
     "name": "stdout",
     "output_type": "stream",
     "text": [
      "tensor([[ 1,  2,  3],\n",
      "        [ 4,  5,  6],\n",
      "        [ 7,  8,  9],\n",
      "        [10, 11, 12]], dtype=torch.int32)\n",
      "torch.Size([4, 3])\n"
     ]
    },
    {
     "name": "stderr",
     "output_type": "stream",
     "text": [
      "C:\\Users\\user\\AppData\\Local\\Temp\\ipykernel_14040\\1294153406.py:3: DeprecationWarning: an integer is required (got type float).  Implicit conversion to integers using __int__ is deprecated, and may be removed in a future version of Python.\n",
      "  t = torch.IntTensor([\n"
     ]
    }
   ],
   "source": [
    "import torch\n",
    "\n",
    "t = torch.IntTensor([\n",
    "    [1., 2., 3.],\n",
    "    [4., 5., 6.],\n",
    "    [7., 8., 9.],\n",
    "    [10., 11., 12.]\n",
    "])\n",
    "print(t)\n",
    "print(t.shape)"
   ]
  },
  {
   "cell_type": "code",
   "execution_count": 15,
   "id": "536e9299",
   "metadata": {},
   "outputs": [
    {
     "name": "stdout",
     "output_type": "stream",
     "text": [
      "tensor([ 2,  5,  8, 11], dtype=torch.int32)\n"
     ]
    }
   ],
   "source": [
    "print(t[:, 1])"
   ]
  },
  {
   "cell_type": "code",
   "execution_count": 16,
   "id": "82a377c0",
   "metadata": {},
   "outputs": [
    {
     "name": "stdout",
     "output_type": "stream",
     "text": [
      "tensor([[ 1,  2],\n",
      "        [ 4,  5],\n",
      "        [ 7,  8],\n",
      "        [10, 11]], dtype=torch.int32)\n"
     ]
    }
   ],
   "source": [
    "print(t[:, :-1])"
   ]
  },
  {
   "cell_type": "code",
   "execution_count": 17,
   "id": "8986ac4c",
   "metadata": {},
   "outputs": [
    {
     "name": "stdout",
     "output_type": "stream",
     "text": [
      "tensor([[1, 2, 3],\n",
      "        [4, 5, 6],\n",
      "        [7, 8, 9]], dtype=torch.int32)\n"
     ]
    }
   ],
   "source": [
    "print(t[:-1])"
   ]
  },
  {
   "cell_type": "code",
   "execution_count": 18,
   "id": "c75d30c8",
   "metadata": {},
   "outputs": [
    {
     "name": "stdout",
     "output_type": "stream",
     "text": [
      "[0, 1, 2, 4]\n"
     ]
    }
   ],
   "source": [
    "list = [0,1,2,4,6]\n",
    "print(list[:-1])"
   ]
  },
  {
   "cell_type": "code",
   "execution_count": 22,
   "id": "f901d8d5",
   "metadata": {},
   "outputs": [
    {
     "name": "stdout",
     "output_type": "stream",
     "text": [
      "tensor([[1., 4.],\n",
      "        [2., 5.],\n",
      "        [3., 6.]])\n",
      "torch.Size([3, 2])\n",
      "torch.Size([3, 2])\n"
     ]
    }
   ],
   "source": [
    "x = torch.FloatTensor([1, 4])\n",
    "y = torch.FloatTensor([2, 5])\n",
    "z = torch.FloatTensor([3, 6])\n",
    "\n",
    "print(torch.stack([x, y, z]))\n",
    "print(torch.stack([x, y, z]).size())\n",
    "print(torch.stack([x, y, z]).shape)"
   ]
  },
  {
   "cell_type": "markdown",
   "id": "c89ae388",
   "metadata": {},
   "source": [
    "### 선형회귀"
   ]
  },
  {
   "cell_type": "code",
   "execution_count": 24,
   "id": "8f78c5ba",
   "metadata": {},
   "outputs": [
    {
     "data": {
      "text/plain": [
       "<torch._C.Generator at 0x21f2dabdf70>"
      ]
     },
     "execution_count": 24,
     "metadata": {},
     "output_type": "execute_result"
    }
   ],
   "source": [
    "import torch\n",
    "import torch.nn as nn\n",
    "import torch.nn.functional as F\n",
    "import torch.optim as optim\n",
    "# 현재 실습하고 있는 파이썬 코드를 재실행해도 다음에도 같은 결과가 나오도록 랜덤 시드(random seed)를 줍니다.\n",
    "torch.manual_seed(1)"
   ]
  },
  {
   "cell_type": "code",
   "execution_count": 25,
   "id": "e9e59945",
   "metadata": {},
   "outputs": [],
   "source": [
    "x_train = torch.FloatTensor([[1], [2], [3]])\n",
    "y_train = torch.FloatTensor([[2], [4], [6]])"
   ]
  },
  {
   "cell_type": "code",
   "execution_count": 26,
   "id": "a601d732",
   "metadata": {},
   "outputs": [
    {
     "name": "stdout",
     "output_type": "stream",
     "text": [
      "tensor([[1.],\n",
      "        [2.],\n",
      "        [3.]])\n",
      "torch.Size([3, 1])\n"
     ]
    }
   ],
   "source": [
    "print(x_train)\n",
    "print(x_train.shape)"
   ]
  },
  {
   "cell_type": "code",
   "execution_count": 27,
   "id": "86fcff56",
   "metadata": {},
   "outputs": [
    {
     "name": "stdout",
     "output_type": "stream",
     "text": [
      "tensor([0.], requires_grad=True)\n"
     ]
    }
   ],
   "source": [
    "# 가중치 W를 0으로 초기화하고 학습을 통해 값이 변경되는 변수임을 명시함.\n",
    "W = torch.zeros(1, requires_grad=True) \n",
    "# 가중치 W를 출력\n",
    "print(W) "
   ]
  },
  {
   "cell_type": "code",
   "execution_count": 29,
   "id": "8514f944",
   "metadata": {},
   "outputs": [
    {
     "name": "stdout",
     "output_type": "stream",
     "text": [
      "tensor([0.], requires_grad=True)\n"
     ]
    }
   ],
   "source": [
    "b = torch.zeros(1, requires_grad=True)\n",
    "print(b)"
   ]
  },
  {
   "cell_type": "code",
   "execution_count": 30,
   "id": "eb3348b8",
   "metadata": {},
   "outputs": [
    {
     "name": "stdout",
     "output_type": "stream",
     "text": [
      "tensor([[0.],\n",
      "        [0.],\n",
      "        [0.]], grad_fn=<AddBackward0>)\n"
     ]
    }
   ],
   "source": [
    "hypothesis = x_train * W + b\n",
    "print(hypothesis)"
   ]
  },
  {
   "cell_type": "code",
   "execution_count": 31,
   "id": "c4bb1122",
   "metadata": {},
   "outputs": [
    {
     "name": "stdout",
     "output_type": "stream",
     "text": [
      "tensor(18.6667, grad_fn=<MeanBackward0>)\n"
     ]
    }
   ],
   "source": [
    "# 앞서 배운 torch.mean으로 평균을 구한다.\n",
    "cost = torch.mean((hypothesis - y_train) ** 2) \n",
    "print(cost)"
   ]
  },
  {
   "cell_type": "code",
   "execution_count": 32,
   "id": "8681b33c",
   "metadata": {},
   "outputs": [],
   "source": [
    "optimizer = optim.SGD([W, b], lr=0.01)\n",
    "\n",
    "# gradient를 0으로 초기화\n",
    "optimizer.zero_grad() \n",
    "# 비용 함수를 미분하여 gradient 계산\n",
    "cost.backward() \n",
    "# W와 b를 업데이트\n",
    "optimizer.step() "
   ]
  },
  {
   "cell_type": "code",
   "execution_count": 36,
   "id": "dc06ef21",
   "metadata": {},
   "outputs": [
    {
     "name": "stdout",
     "output_type": "stream",
     "text": [
      "z:  tensor(4., grad_fn=<MulBackward0>)\n",
      "z.backward\n",
      "수식을 w로 미분한 값 : 2.0\n",
      "z:  tensor(4., grad_fn=<MulBackward0>)\n",
      "z.backward\n",
      "수식을 w로 미분한 값 : 4.0\n",
      "z:  tensor(4., grad_fn=<MulBackward0>)\n",
      "z.backward\n",
      "수식을 w로 미분한 값 : 6.0\n",
      "z:  tensor(4., grad_fn=<MulBackward0>)\n",
      "z.backward\n",
      "수식을 w로 미분한 값 : 8.0\n",
      "z:  tensor(4., grad_fn=<MulBackward0>)\n",
      "z.backward\n",
      "수식을 w로 미분한 값 : 10.0\n",
      "z:  tensor(4., grad_fn=<MulBackward0>)\n",
      "z.backward\n",
      "수식을 w로 미분한 값 : 12.0\n",
      "z:  tensor(4., grad_fn=<MulBackward0>)\n",
      "z.backward\n",
      "수식을 w로 미분한 값 : 14.0\n",
      "z:  tensor(4., grad_fn=<MulBackward0>)\n",
      "z.backward\n",
      "수식을 w로 미분한 값 : 16.0\n",
      "z:  tensor(4., grad_fn=<MulBackward0>)\n",
      "z.backward\n",
      "수식을 w로 미분한 값 : 18.0\n",
      "z:  tensor(4., grad_fn=<MulBackward0>)\n",
      "z.backward\n",
      "수식을 w로 미분한 값 : 20.0\n",
      "z:  tensor(4., grad_fn=<MulBackward0>)\n",
      "z.backward\n",
      "수식을 w로 미분한 값 : 22.0\n",
      "z:  tensor(4., grad_fn=<MulBackward0>)\n",
      "z.backward\n",
      "수식을 w로 미분한 값 : 24.0\n",
      "z:  tensor(4., grad_fn=<MulBackward0>)\n",
      "z.backward\n",
      "수식을 w로 미분한 값 : 26.0\n",
      "z:  tensor(4., grad_fn=<MulBackward0>)\n",
      "z.backward\n",
      "수식을 w로 미분한 값 : 28.0\n",
      "z:  tensor(4., grad_fn=<MulBackward0>)\n",
      "z.backward\n",
      "수식을 w로 미분한 값 : 30.0\n",
      "z:  tensor(4., grad_fn=<MulBackward0>)\n",
      "z.backward\n",
      "수식을 w로 미분한 값 : 32.0\n",
      "z:  tensor(4., grad_fn=<MulBackward0>)\n",
      "z.backward\n",
      "수식을 w로 미분한 값 : 34.0\n",
      "z:  tensor(4., grad_fn=<MulBackward0>)\n",
      "z.backward\n",
      "수식을 w로 미분한 값 : 36.0\n",
      "z:  tensor(4., grad_fn=<MulBackward0>)\n",
      "z.backward\n",
      "수식을 w로 미분한 값 : 38.0\n",
      "z:  tensor(4., grad_fn=<MulBackward0>)\n",
      "z.backward\n",
      "수식을 w로 미분한 값 : 40.0\n",
      "z:  tensor(4., grad_fn=<MulBackward0>)\n",
      "z.backward\n",
      "수식을 w로 미분한 값 : 42.0\n"
     ]
    }
   ],
   "source": [
    "import torch\n",
    "w = torch.tensor(2.0, requires_grad=True)\n",
    "\n",
    "nb_epochs = 20\n",
    "for epoch in range(nb_epochs + 1):\n",
    "    \n",
    "\n",
    "    z = 2*w\n",
    "    print('z: ', z)\n",
    "\n",
    "    z.backward()\n",
    "    print('z.backward')\n",
    "    print('수식을 w로 미분한 값 : {}'.format(w.grad))"
   ]
  },
  {
   "cell_type": "code",
   "execution_count": null,
   "id": "d748d0a3",
   "metadata": {},
   "outputs": [],
   "source": []
  }
 ],
 "metadata": {
  "kernelspec": {
   "display_name": "Python 3 (ipykernel)",
   "language": "python",
   "name": "python3"
  },
  "language_info": {
   "codemirror_mode": {
    "name": "ipython",
    "version": 3
   },
   "file_extension": ".py",
   "mimetype": "text/x-python",
   "name": "python",
   "nbconvert_exporter": "python",
   "pygments_lexer": "ipython3",
   "version": "3.8.16"
  }
 },
 "nbformat": 4,
 "nbformat_minor": 5
}
