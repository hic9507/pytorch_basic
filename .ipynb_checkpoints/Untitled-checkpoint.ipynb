{
 "cells": [
  {
   "cell_type": "code",
   "execution_count": 2,
   "id": "fed38de8",
   "metadata": {},
   "outputs": [
    {
     "data": {
      "text/plain": [
       "'1.12.1'"
      ]
     },
     "execution_count": 2,
     "metadata": {},
     "output_type": "execute_result"
    }
   ],
   "source": [
    "import torch\n",
    "\n",
    "torch.__version__"
   ]
  },
  {
   "cell_type": "code",
   "execution_count": 3,
   "id": "22da9b9d",
   "metadata": {},
   "outputs": [
    {
     "name": "stdout",
     "output_type": "stream",
     "text": [
      "tensor([[4.3115e-08, 2.5812e-06],\n",
      "        [2.6259e-06, 1.3458e+22],\n",
      "        [4.0523e-11, 7.1450e+31],\n",
      "        [4.1418e-41, 1.2612e-43]])\n"
     ]
    }
   ],
   "source": [
    "x = torch.empty(4, 2)\n",
    "print(x)"
   ]
  },
  {
   "cell_type": "code",
   "execution_count": 4,
   "id": "572bd80f",
   "metadata": {},
   "outputs": [
    {
     "name": "stdout",
     "output_type": "stream",
     "text": [
      "tensor([[0.9100, 0.6417],\n",
      "        [0.7747, 0.6290],\n",
      "        [0.1071, 0.5740],\n",
      "        [0.8075, 0.7887]])\n"
     ]
    }
   ],
   "source": [
    "x = torch.rand(4, 2)\n",
    "print(x)"
   ]
  },
  {
   "cell_type": "code",
   "execution_count": 5,
   "id": "59a4a612",
   "metadata": {},
   "outputs": [
    {
     "name": "stdout",
     "output_type": "stream",
     "text": [
      "tensor([[0, 0],\n",
      "        [0, 0],\n",
      "        [0, 0],\n",
      "        [0, 0]])\n"
     ]
    }
   ],
   "source": [
    "x = torch.zeros(4, 2, dtype=torch.long)\n",
    "print(x)"
   ]
  },
  {
   "cell_type": "code",
   "execution_count": 7,
   "id": "0c1bac37",
   "metadata": {},
   "outputs": [
    {
     "name": "stdout",
     "output_type": "stream",
     "text": [
      "tensor([3.0000, 2.3000])\n"
     ]
    }
   ],
   "source": [
    "x = torch.tensor([3, 2.3])\n",
    "print(x)"
   ]
  },
  {
   "cell_type": "code",
   "execution_count": 10,
   "id": "fe1cd14b",
   "metadata": {},
   "outputs": [
    {
     "name": "stdout",
     "output_type": "stream",
     "text": [
      "tensor([[1., 1., 1., 1.],\n",
      "        [1., 1., 1., 1.]], dtype=torch.float64)\n"
     ]
    }
   ],
   "source": [
    "x = x.new_ones(2, 4,dtype=torch.double)\n",
    "print(x)"
   ]
  },
  {
   "cell_type": "code",
   "execution_count": 11,
   "id": "922bed86",
   "metadata": {},
   "outputs": [
    {
     "name": "stdout",
     "output_type": "stream",
     "text": [
      "tensor([[-0.4212, -0.0495, -0.1124, -1.7303],\n",
      "        [ 1.0873, -0.9930,  1.9478, -1.5118]])\n"
     ]
    }
   ],
   "source": [
    "x = torch.randn_like(x, dtype=torch.float)\n",
    "print(x)\n",
    "# 기존의 텐서 모양과 같은 모양으로 만드는 것=(2,4)"
   ]
  },
  {
   "cell_type": "code",
   "execution_count": 17,
   "id": "82dcee4d",
   "metadata": {},
   "outputs": [
    {
     "name": "stdout",
     "output_type": "stream",
     "text": [
      "torch.Size([2, 4])\n",
      "torch.Size([2, 4])\n"
     ]
    }
   ],
   "source": [
    "print(x.size())\n",
    "print(x.shape)"
   ]
  },
  {
   "cell_type": "markdown",
   "id": "48ff8492",
   "metadata": {},
   "source": [
    "### 데이터타입"
   ]
  },
  {
   "cell_type": "code",
   "execution_count": 19,
   "id": "8dab031f",
   "metadata": {},
   "outputs": [
    {
     "name": "stdout",
     "output_type": "stream",
     "text": [
      "tensor([1., 2., 3.])\n",
      "torch.float32\n"
     ]
    }
   ],
   "source": [
    "ft = torch.FloatTensor([1, 2, 3])\n",
    "print(ft)\n",
    "print(ft.dtype)"
   ]
  },
  {
   "cell_type": "code",
   "execution_count": 21,
   "id": "6db2c114",
   "metadata": {},
   "outputs": [
    {
     "name": "stdout",
     "output_type": "stream",
     "text": [
      "tensor([1, 2, 3], dtype=torch.int16)\n",
      "tensor([1, 2, 3], dtype=torch.int32)\n",
      "tensor([1, 2, 3])\n"
     ]
    }
   ],
   "source": [
    "print(ft.short())\n",
    "print(ft.int())\n",
    "print(ft.long())"
   ]
  },
  {
   "cell_type": "code",
   "execution_count": 22,
   "id": "95e4e59d",
   "metadata": {},
   "outputs": [
    {
     "name": "stdout",
     "output_type": "stream",
     "text": [
      "tensor([1, 2, 3], dtype=torch.int32)\n",
      "torch.int32\n"
     ]
    }
   ],
   "source": [
    "it = torch.IntTensor([1, 2, 3])\n",
    "print(it)\n",
    "print(it.dtype)"
   ]
  },
  {
   "cell_type": "code",
   "execution_count": 23,
   "id": "a0358a3b",
   "metadata": {},
   "outputs": [
    {
     "name": "stdout",
     "output_type": "stream",
     "text": [
      "tensor([1., 2., 3.])\n",
      "tensor([1., 2., 3.], dtype=torch.float64)\n",
      "tensor([1., 2., 3.], dtype=torch.float16)\n"
     ]
    }
   ],
   "source": [
    "print(it.float())\n",
    "print(it.double())\n",
    "print(it.half())"
   ]
  },
  {
   "cell_type": "code",
   "execution_count": null,
   "id": "24871de4",
   "metadata": {},
   "outputs": [],
   "source": []
  },
  {
   "cell_type": "code",
   "execution_count": 24,
   "id": "2d8b80dc",
   "metadata": {},
   "outputs": [
    {
     "name": "stdout",
     "output_type": "stream",
     "text": [
      "tensor([-1.1447])\n",
      "-1.1446666717529297\n",
      "torch.float32\n"
     ]
    }
   ],
   "source": [
    "x = torch.randn(1)\n",
    "print(x)\n",
    "print(x.item())\n",
    "print(x.dtype)"
   ]
  },
  {
   "cell_type": "code",
   "execution_count": 27,
   "id": "387ce493",
   "metadata": {},
   "outputs": [
    {
     "name": "stdout",
     "output_type": "stream",
     "text": [
      "cuda\n",
      "tensor([1.], device='cuda:0')\n",
      "tensor([-1.1447], device='cuda:0')\n",
      "tensor([-0.1447], device='cuda:0')\n",
      "tensor([-0.1447], dtype=torch.float64)\n"
     ]
    }
   ],
   "source": [
    "device = torch.device('cuda' if torch.cuda.is_available() else 'cpu')\n",
    "print(device)\n",
    "\n",
    "y =  torch.ones_like(x, device=device)\n",
    "print(y)\n",
    "\n",
    "x = x.to(device)\n",
    "print(x)\n",
    "\n",
    "z = x + y\n",
    "print(z)\n",
    "print(z.to('cpu', torch.double))"
   ]
  },
  {
   "cell_type": "markdown",
   "id": "74f4184a",
   "metadata": {},
   "source": [
    "### 다차원텐서 표현"
   ]
  },
  {
   "cell_type": "code",
   "execution_count": 28,
   "id": "6e062211",
   "metadata": {},
   "outputs": [
    {
     "name": "stdout",
     "output_type": "stream",
     "text": [
      "0\n",
      "torch.Size([])\n",
      "tensor(0)\n"
     ]
    }
   ],
   "source": [
    "# 0d tensor\n",
    "t0 = torch.tensor(0)\n",
    "print(t0.ndim)\n",
    "print(t0.shape)\n",
    "print(t0)"
   ]
  },
  {
   "cell_type": "code",
   "execution_count": 29,
   "id": "1957bf74",
   "metadata": {},
   "outputs": [
    {
     "name": "stdout",
     "output_type": "stream",
     "text": [
      "1\n",
      "torch.Size([3])\n",
      "tensor([1, 2, 3])\n"
     ]
    }
   ],
   "source": [
    "# 1d tensor\n",
    "t1 = torch.tensor([1, 2, 3])\n",
    "print(t1.ndim)\n",
    "print(t1.shape)\n",
    "print(t1)"
   ]
  },
  {
   "cell_type": "code",
   "execution_count": 30,
   "id": "b47414e2",
   "metadata": {},
   "outputs": [
    {
     "name": "stdout",
     "output_type": "stream",
     "text": [
      "2\n",
      "torch.Size([3, 3])\n",
      "tensor([[1, 2, 3],\n",
      "        [4, 5, 6],\n",
      "        [7, 8, 9]])\n"
     ]
    }
   ],
   "source": [
    "# 2d tensor\n",
    "t2 = torch.tensor([[1, 2, 3],\n",
    "                    [4, 5, 6],\n",
    "                    [7, 8, 9]])\n",
    "print(t2.ndim)\n",
    "print(t2.shape)\n",
    "print(t2)"
   ]
  },
  {
   "cell_type": "code",
   "execution_count": 32,
   "id": "7a4dfbbf",
   "metadata": {},
   "outputs": [
    {
     "name": "stdout",
     "output_type": "stream",
     "text": [
      "3\n",
      "torch.Size([3, 3, 3])\n",
      "tensor([[[1, 2, 3],\n",
      "         [4, 5, 6],\n",
      "         [7, 8, 9]],\n",
      "\n",
      "        [[1, 2, 3],\n",
      "         [4, 5, 6],\n",
      "         [7, 8, 9]],\n",
      "\n",
      "        [[1, 2, 3],\n",
      "         [4, 5, 6],\n",
      "         [7, 8, 9]]])\n"
     ]
    }
   ],
   "source": [
    "# 3d tensor 큐브모양\n",
    "t3 = torch.tensor([[[1, 2, 3],\n",
    "                    [4, 5, 6],\n",
    "                    [7, 8, 9]],\n",
    "                   [[1, 2, 3],\n",
    "                    [4, 5, 6],\n",
    "                    [7, 8, 9]],\n",
    "                   [[1, 2, 3],\n",
    "                    [4, 5, 6],\n",
    "                    [7, 8, 9]]])\n",
    "print(t3.ndim)\n",
    "print(t3.shape)\n",
    "print(t3)"
   ]
  },
  {
   "cell_type": "markdown",
   "id": "63ed71f2",
   "metadata": {},
   "source": [
    "### 4d tensor 컬러이미지를 예로 들 수 있음. 샘플, 높이, 너비, 컬러채널을 가진 구조로 사용"
   ]
  },
  {
   "cell_type": "markdown",
   "id": "80ae9e5b",
   "metadata": {},
   "source": [
    "### 5d tensor 비디오 데이터가 대표적인 사례.\n",
    "### 주로 샘플, 프레임, 높이, 너비, 컬러 채널을 가진 구조로 사용, 이미지가 시퀀스로 연달아 있음"
   ]
  },
  {
   "cell_type": "markdown",
   "id": "e76bbaae",
   "metadata": {},
   "source": [
    "### 텐서의 연산"
   ]
  },
  {
   "cell_type": "code",
   "execution_count": 38,
   "id": "952cad66",
   "metadata": {},
   "outputs": [
    {
     "name": "stdout",
     "output_type": "stream",
     "text": [
      "tensor([[-0.9356, -0.0534]])\n",
      "tensor([[0.9356, 0.0534]])\n",
      "tensor([[-0., -0.]])\n",
      "tensor([[-1., -1.]])\n",
      "tensor([[-0.5000, -0.0534]])\n"
     ]
    }
   ],
   "source": [
    "import math\n",
    "a = torch.rand(1, 2) * 2 -1\n",
    "print(a)\n",
    "print(torch.abs(a))\n",
    "print(torch.ceil(a))\n",
    "print(torch.floor(a))\n",
    "print(torch.clamp(a, -0.5, 0.5))"
   ]
  },
  {
   "cell_type": "code",
   "execution_count": 39,
   "id": "0f322dc9",
   "metadata": {},
   "outputs": [
    {
     "name": "stdout",
     "output_type": "stream",
     "text": [
      "tensor([[-0.9356, -0.0534]])\n",
      "tensor(-0.9356)\n",
      "tensor(-0.0534)\n",
      "tensor(-0.4945)\n",
      "tensor(0.6238)\n",
      "tensor(0.0499)\n",
      "tensor([1, 2, 3])\n"
     ]
    }
   ],
   "source": [
    "print(a)\n",
    "print(torch.min(a))\n",
    "print(torch.max(a))\n",
    "print(torch.mean(a))\n",
    "print(torch.std(a))\n",
    "print(torch.prod(a))\n",
    "print(torch.unique(torch.tensor([1, 2, 3, 1, 2, 2]))) # 유니크한 값"
   ]
  },
  {
   "cell_type": "markdown",
   "id": "8d13991f",
   "metadata": {},
   "source": [
    "### max와 mean은 dim 인자를 줄 경우 최대값을 가진 인덱스 argmax와 최소값을 가진 인덱스인 argmin도 함께 return한다"
   ]
  },
  {
   "cell_type": "code",
   "execution_count": 41,
   "id": "a4be6892",
   "metadata": {},
   "outputs": [
    {
     "name": "stdout",
     "output_type": "stream",
     "text": [
      "tensor([[0.0360, 0.8564],\n",
      "        [0.6737, 0.6553]])\n",
      "torch.return_types.max(\n",
      "values=tensor([0.6737, 0.8564]),\n",
      "indices=tensor([1, 0]))\n",
      "torch.return_types.max(\n",
      "values=tensor([0.8564, 0.6737]),\n",
      "indices=tensor([1, 0]))\n"
     ]
    }
   ],
   "source": [
    "x = torch.rand(2, 2)\n",
    "print(x)\n",
    "print(x.max(dim=0)) # 위아래로 묶어서 열 기준\n",
    "print(x.max(dim=1)) # 옆으로 묶어서 행 기준"
   ]
  },
  {
   "cell_type": "code",
   "execution_count": 42,
   "id": "732c4420",
   "metadata": {},
   "outputs": [
    {
     "name": "stdout",
     "output_type": "stream",
     "text": [
      "tensor([[0.0360, 0.8564],\n",
      "        [0.6737, 0.6553]])\n",
      "torch.return_types.min(\n",
      "values=tensor([0.0360, 0.6553]),\n",
      "indices=tensor([0, 1]))\n",
      "torch.return_types.min(\n",
      "values=tensor([0.0360, 0.6553]),\n",
      "indices=tensor([0, 1]))\n"
     ]
    }
   ],
   "source": [
    "print(x)\n",
    "print(x.min(dim=0)) # 위아래로 묶어서 열 기준\n",
    "print(x.min(dim=1)) # 옆으로 묶어서 행 기준"
   ]
  },
  {
   "cell_type": "code",
   "execution_count": 43,
   "id": "e0b2805f",
   "metadata": {},
   "outputs": [
    {
     "name": "stdout",
     "output_type": "stream",
     "text": [
      "tensor([[0.9794, 0.3835],\n",
      "        [0.8601, 0.9909]])\n",
      "tensor([[0.6555, 0.6077],\n",
      "        [0.9525, 0.3486]])\n"
     ]
    }
   ],
   "source": [
    "x = torch.rand(2, 2)\n",
    "print(x)\n",
    "y = torch.rand(2, 2)\n",
    "print(y)"
   ]
  },
  {
   "cell_type": "code",
   "execution_count": 44,
   "id": "0e5ffbbb",
   "metadata": {},
   "outputs": [
    {
     "name": "stdout",
     "output_type": "stream",
     "text": [
      "tensor([[1.6349, 0.9912],\n",
      "        [1.8126, 1.3395]])\n",
      "tensor([[1.6349, 0.9912],\n",
      "        [1.8126, 1.3395]])\n"
     ]
    }
   ],
   "source": [
    "print(x + y)\n",
    "print(torch.add(x, y))"
   ]
  },
  {
   "cell_type": "code",
   "execution_count": 46,
   "id": "19fad520",
   "metadata": {},
   "outputs": [
    {
     "name": "stdout",
     "output_type": "stream",
     "text": [
      "tensor([[0.0000e+00, 1.9544e+00, 1.8754e+28, 5.1481e+22],\n",
      "        [3.3501e-09, 1.3039e-11, 4.3678e-05, 2.6405e-06]])\n",
      "tensor([[1.6349, 0.9912],\n",
      "        [1.8126, 1.3395]])\n"
     ]
    },
    {
     "name": "stderr",
     "output_type": "stream",
     "text": [
      "C:\\Users\\user\\AppData\\Local\\Temp\\ipykernel_10864\\1506283865.py:3: UserWarning: An output with one or more elements was resized since it had shape [2, 4], which does not match the required output shape [2, 2]. This behavior is deprecated, and in a future PyTorch release outputs will not be resized unless they have zero elements. You can explicitly reuse an out tensor t by resizing it, inplace, to zero elements with t.resize_(0). (Triggered internally at  C:\\cb\\pytorch_1000000000000\\work\\aten\\src\\ATen\\native\\Resize.cpp:24.)\n",
      "  torch.add(x, y, out=result)\n"
     ]
    }
   ],
   "source": [
    "result = torch.empty(2, 4)\n",
    "print(result)\n",
    "torch.add(x, y, out=result)\n",
    "print(result)"
   ]
  },
  {
   "cell_type": "markdown",
   "id": "cb1b1fb5",
   "metadata": {},
   "source": [
    "#### in-place 방식: 이 방식으로 텐서의 값을 변경하는 연산 뒤에는 _가 붙음\n",
    "#### x.copy_(y), x.t_()"
   ]
  },
  {
   "cell_type": "code",
   "execution_count": 47,
   "id": "fb143b15",
   "metadata": {},
   "outputs": [
    {
     "name": "stdout",
     "output_type": "stream",
     "text": [
      "tensor([[0.9794, 0.3835],\n",
      "        [0.8601, 0.9909]])\n",
      "tensor([[0.6555, 0.6077],\n",
      "        [0.9525, 0.3486]])\n",
      "tensor([[1.6349, 0.9912],\n",
      "        [1.8126, 1.3395]])\n"
     ]
    }
   ],
   "source": [
    "print(x)\n",
    "print(y)\n",
    "y.add_(x) # y의 값에 x를 더한 값을 저장\n",
    "print(y)"
   ]
  },
  {
   "cell_type": "code",
   "execution_count": 51,
   "id": "2a13f9cd",
   "metadata": {},
   "outputs": [
    {
     "name": "stdout",
     "output_type": "stream",
     "text": [
      "tensor([[0.9794, 0.3835],\n",
      "        [0.8601, 0.9909]])\n",
      "tensor([[1.6349, 0.9912],\n",
      "        [1.8126, 1.3395]])\n",
      "tensor([[-0.6555, -0.6077],\n",
      "        [-0.9525, -0.3486]])\n",
      "tensor([[-0.6555, -0.6077],\n",
      "        [-0.9525, -0.3486]])\n",
      "tensor([[-0.6555, -0.6077],\n",
      "        [-0.9525, -0.3486]])\n"
     ]
    }
   ],
   "source": [
    "print(x)\n",
    "print(y)\n",
    "print((x - y))\n",
    "print(torch.sub(x, y))\n",
    "print(x.sub(y))"
   ]
  },
  {
   "cell_type": "code",
   "execution_count": 52,
   "id": "63fabb59",
   "metadata": {},
   "outputs": [
    {
     "name": "stdout",
     "output_type": "stream",
     "text": [
      "tensor([[0.9794, 0.3835],\n",
      "        [0.8601, 0.9909]])\n",
      "tensor([[1.6349, 0.9912],\n",
      "        [1.8126, 1.3395]])\n",
      "tensor([[1.6012, 0.3801],\n",
      "        [1.5589, 1.3274]])\n",
      "tensor([[1.6012, 0.3801],\n",
      "        [1.5589, 1.3274]])\n",
      "tensor([[1.6012, 0.3801],\n",
      "        [1.5589, 1.3274]])\n"
     ]
    }
   ],
   "source": [
    "print(x)\n",
    "print(y)\n",
    "print((x * y))\n",
    "print(torch.mul(x, y))\n",
    "print(x.mul(y))"
   ]
  },
  {
   "cell_type": "code",
   "execution_count": 53,
   "id": "9ab7149d",
   "metadata": {},
   "outputs": [
    {
     "name": "stdout",
     "output_type": "stream",
     "text": [
      "tensor([[0.9794, 0.3835],\n",
      "        [0.8601, 0.9909]])\n",
      "tensor([[1.6349, 0.9912],\n",
      "        [1.8126, 1.3395]])\n",
      "tensor([[0.5991, 0.3869],\n",
      "        [0.4745, 0.7397]])\n",
      "tensor([[0.5991, 0.3869],\n",
      "        [0.4745, 0.7397]])\n",
      "tensor([[0.5991, 0.3869],\n",
      "        [0.4745, 0.7397]])\n"
     ]
    }
   ],
   "source": [
    "print(x)\n",
    "print(y)\n",
    "print((x / y))\n",
    "print(torch.div(x, y))\n",
    "print(x.div(y))"
   ]
  },
  {
   "cell_type": "code",
   "execution_count": 54,
   "id": "a2b2bae5",
   "metadata": {},
   "outputs": [
    {
     "name": "stdout",
     "output_type": "stream",
     "text": [
      "tensor([[0.9794, 0.3835],\n",
      "        [0.8601, 0.9909]])\n",
      "tensor([[1.6349, 0.9912],\n",
      "        [1.8126, 1.3395]])\n",
      "tensor([[2.2963, 1.4845],\n",
      "        [3.2022, 2.1799]])\n",
      "tensor([[2.2963, 1.4845],\n",
      "        [3.2022, 2.1799]])\n",
      "torch.return_types.svd(\n",
      "U=tensor([[-0.5766, -0.8170],\n",
      "        [-0.8170,  0.5766]]),\n",
      "S=tensor([4.7413, 0.0531]),\n",
      "V=tensor([[-0.8311, -0.5562],\n",
      "        [-0.5562,  0.8311]]))\n"
     ]
    }
   ],
   "source": [
    "print(x)\n",
    "print(y)\n",
    "print(torch.matmul(x, y))\n",
    "z = torch.mm(x, y)\n",
    "print(z)\n",
    "print(torch.svd(z))"
   ]
  },
  {
   "cell_type": "markdown",
   "id": "ac4b39f5",
   "metadata": {},
   "source": [
    "### 인덱싱, 슬라이싱"
   ]
  },
  {
   "cell_type": "code",
   "execution_count": 56,
   "id": "3474ab81",
   "metadata": {},
   "outputs": [
    {
     "name": "stdout",
     "output_type": "stream",
     "text": [
      "tensor([[1., 2.],\n",
      "        [3., 4.]])\n",
      "tensor(1.)\n",
      "tensor(2.)\n",
      "tensor(3.)\n",
      "tensor(4.)\n",
      "tensor([1., 3.])\n",
      "tensor([2., 4.])\n",
      "tensor([1., 2.])\n",
      "tensor([3., 4.])\n"
     ]
    }
   ],
   "source": [
    "x = torch.Tensor([[1, 2],\n",
    "                 [3, 4]])\n",
    "print(x)\n",
    "\n",
    "print(x[0, 0])\n",
    "print(x[0, 1])\n",
    "print(x[1, 0])\n",
    "print(x[1, 1])\n",
    "\n",
    "print(x[:, 0]) # 행은 다 선택하고 0번쨰 열만 출력\n",
    "print(x[:, 1])\n",
    "\n",
    "print(x[0, :]) #열은 다 선택하고 0번째 행만 출력\n",
    "print(x[1, :])"
   ]
  },
  {
   "cell_type": "markdown",
   "id": "763bea5a",
   "metadata": {},
   "source": [
    "### 텐서의 크기(size)나 모양(shape)을 변경하는 view"
   ]
  },
  {
   "cell_type": "code",
   "execution_count": 60,
   "id": "d3a68ad0",
   "metadata": {},
   "outputs": [
    {
     "name": "stdout",
     "output_type": "stream",
     "text": [
      "tensor([[ 1.0856, -1.2775,  0.2939, -1.5431,  0.3091],\n",
      "        [ 1.2940, -1.0203,  1.0373,  1.6287, -0.0697],\n",
      "        [-2.1190, -0.5794,  1.0183, -0.0748, -1.3097],\n",
      "        [ 1.7498, -1.0535, -0.0346, -0.4908, -0.7124]])\n",
      "tensor([ 1.0856, -1.2775,  0.2939, -1.5431,  0.3091,  1.2940, -1.0203,  1.0373,\n",
      "         1.6287, -0.0697, -2.1190, -0.5794,  1.0183, -0.0748, -1.3097,  1.7498,\n",
      "        -1.0535, -0.0346, -0.4908, -0.7124])\n",
      "tensor([[ 1.0856, -1.2775,  0.2939, -1.5431],\n",
      "        [ 0.3091,  1.2940, -1.0203,  1.0373],\n",
      "        [ 1.6287, -0.0697, -2.1190, -0.5794],\n",
      "        [ 1.0183, -0.0748, -1.3097,  1.7498],\n",
      "        [-1.0535, -0.0346, -0.4908, -0.7124]])\n"
     ]
    }
   ],
   "source": [
    "x = torch.randn(4, 5)\n",
    "print(x)\n",
    "y = x.view(20)\n",
    "print(y)\n",
    "z = x.view(5, -1)\n",
    "print(z)"
   ]
  },
  {
   "cell_type": "code",
   "execution_count": 61,
   "id": "220ca021",
   "metadata": {},
   "outputs": [
    {
     "name": "stdout",
     "output_type": "stream",
     "text": [
      "tensor([-0.5760])\n",
      "-0.5759570598602295\n",
      "torch.float32\n"
     ]
    }
   ],
   "source": [
    "x = torch.randn(1)\n",
    "print(x)\n",
    "print(x.item()) # 텐서의 값을 하나 가져올 수 있음. 텐서에 값이 단 하나라도 존재하는 경우에만\n",
    "print(x.dtype)"
   ]
  },
  {
   "cell_type": "code",
   "execution_count": 64,
   "id": "183533fc",
   "metadata": {},
   "outputs": [
    {
     "name": "stdout",
     "output_type": "stream",
     "text": [
      "tensor([0.7679, 0.1003])\n"
     ]
    },
    {
     "ename": "ValueError",
     "evalue": "only one element tensors can be converted to Python scalars",
     "output_type": "error",
     "traceback": [
      "\u001b[1;31m---------------------------------------------------------------------------\u001b[0m",
      "\u001b[1;31mValueError\u001b[0m                                Traceback (most recent call last)",
      "Cell \u001b[1;32mIn[64], line 3\u001b[0m\n\u001b[0;32m      1\u001b[0m x \u001b[38;5;241m=\u001b[39m torch\u001b[38;5;241m.\u001b[39mrandn(\u001b[38;5;241m2\u001b[39m)\n\u001b[0;32m      2\u001b[0m \u001b[38;5;28mprint\u001b[39m(x)\n\u001b[1;32m----> 3\u001b[0m \u001b[38;5;28mprint\u001b[39m(\u001b[43mx\u001b[49m\u001b[38;5;241;43m.\u001b[39;49m\u001b[43mitem\u001b[49m\u001b[43m(\u001b[49m\u001b[43m)\u001b[49m) \u001b[38;5;66;03m# 스칼라 값이 하나만 존재해야 item()사용 가능\u001b[39;00m\n\u001b[0;32m      4\u001b[0m \u001b[38;5;28mprint\u001b[39m(x\u001b[38;5;241m.\u001b[39mdtype)\n",
      "\u001b[1;31mValueError\u001b[0m: only one element tensors can be converted to Python scalars"
     ]
    }
   ],
   "source": [
    "x = torch.randn(2)\n",
    "print(x)\n",
    "print(x.item()) # 스칼라 값이 하나만 존재해야 item()사용 가능\n",
    "print(x.dtype)"
   ]
  },
  {
   "cell_type": "code",
   "execution_count": 66,
   "id": "42731cf8",
   "metadata": {},
   "outputs": [
    {
     "name": "stdout",
     "output_type": "stream",
     "text": [
      "tensor([[[0.0248, 0.3393, 0.0011],\n",
      "         [0.4244, 0.9646, 0.9816],\n",
      "         [0.9039, 0.4006, 0.7010]]])\n",
      "torch.Size([1, 3, 3])\n"
     ]
    }
   ],
   "source": [
    "# squeeze 차원축소(제거)\n",
    "tensor = torch.rand(1, 3, 3)\n",
    "print(tensor)\n",
    "print(tensor.shape)"
   ]
  },
  {
   "cell_type": "code",
   "execution_count": 67,
   "id": "ed34e217",
   "metadata": {},
   "outputs": [
    {
     "name": "stdout",
     "output_type": "stream",
     "text": [
      "tensor([[0.0248, 0.3393, 0.0011],\n",
      "        [0.4244, 0.9646, 0.9816],\n",
      "        [0.9039, 0.4006, 0.7010]])\n",
      "torch.Size([3, 3])\n"
     ]
    }
   ],
   "source": [
    "t = tensor.squeeze()\n",
    "print(t)\n",
    "print(t.shape)"
   ]
  },
  {
   "cell_type": "code",
   "execution_count": 68,
   "id": "df5e0203",
   "metadata": {},
   "outputs": [
    {
     "name": "stdout",
     "output_type": "stream",
     "text": [
      "tensor([[0.2415, 0.8620, 0.9937],\n",
      "        [0.0703, 0.6359, 0.1960],\n",
      "        [0.4358, 0.5348, 0.3511]])\n",
      "torch.Size([3, 3])\n"
     ]
    }
   ],
   "source": [
    "# unsqueeze 차원 증가(생성)\n",
    "t = torch.rand(3, 3)\n",
    "print(t)\n",
    "print(t.shape)"
   ]
  },
  {
   "cell_type": "code",
   "execution_count": 71,
   "id": "6ce215f8",
   "metadata": {},
   "outputs": [
    {
     "name": "stdout",
     "output_type": "stream",
     "text": [
      "tensor([[[0.2415, 0.8620, 0.9937],\n",
      "         [0.0703, 0.6359, 0.1960],\n",
      "         [0.4358, 0.5348, 0.3511]]])\n",
      "torch.Size([1, 3, 3])\n"
     ]
    }
   ],
   "source": [
    "tensor = t.unsqueeze(dim=0) #dim 정의해줘야함\n",
    "print(tensor)\n",
    "print(tensor.shape)"
   ]
  },
  {
   "cell_type": "code",
   "execution_count": 72,
   "id": "2cbafc88",
   "metadata": {},
   "outputs": [
    {
     "name": "stdout",
     "output_type": "stream",
     "text": [
      "tensor([[[0.2415],\n",
      "         [0.8620],\n",
      "         [0.9937]],\n",
      "\n",
      "        [[0.0703],\n",
      "         [0.6359],\n",
      "         [0.1960]],\n",
      "\n",
      "        [[0.4358],\n",
      "         [0.5348],\n",
      "         [0.3511]]])\n",
      "torch.Size([3, 3, 1])\n"
     ]
    }
   ],
   "source": [
    "tensor = t.unsqueeze(dim=2) #dim 정의해줘야함\n",
    "print(tensor)\n",
    "print(tensor.shape)"
   ]
  },
  {
   "cell_type": "code",
   "execution_count": 73,
   "id": "216d15e3",
   "metadata": {},
   "outputs": [
    {
     "name": "stdout",
     "output_type": "stream",
     "text": [
      "tensor([[[0.2415, 0.8620, 0.9937]],\n",
      "\n",
      "        [[0.0703, 0.6359, 0.1960]],\n",
      "\n",
      "        [[0.4358, 0.5348, 0.3511]]])\n",
      "torch.Size([3, 1, 3])\n"
     ]
    }
   ],
   "source": [
    "tensor = t.unsqueeze(dim=1) #dim 정의해줘야함\n",
    "print(tensor)\n",
    "print(tensor.shape)"
   ]
  },
  {
   "cell_type": "code",
   "execution_count": 74,
   "id": "ae691c84",
   "metadata": {},
   "outputs": [
    {
     "name": "stdout",
     "output_type": "stream",
     "text": [
      "tensor([1., 4.])\n",
      "tensor([2., 5.])\n",
      "tensor([3., 6.])\n",
      "tensor([[1., 4.],\n",
      "        [2., 5.],\n",
      "        [3., 6.]])\n"
     ]
    }
   ],
   "source": [
    "# stack 텐서 간 결합\n",
    "x = torch.FloatTensor([1, 4])\n",
    "print(x)\n",
    "y = torch.FloatTensor([2, 5])\n",
    "print(y)\n",
    "z = torch.FloatTensor([3, 6])\n",
    "print(z)\n",
    "\n",
    "print(torch.stack([x, y, z]))"
   ]
  },
  {
   "cell_type": "code",
   "execution_count": 77,
   "id": "1c586f46",
   "metadata": {},
   "outputs": [
    {
     "name": "stdout",
     "output_type": "stream",
     "text": [
      "tensor([[[ 2.6925,  0.0313,  1.9035],\n",
      "         [-1.2381,  1.2298,  0.6021],\n",
      "         [ 0.7460, -1.8935,  1.3231]]])\n",
      "tensor([[[-2.0341,  0.5515,  0.3786],\n",
      "         [ 1.6490,  0.7820, -1.8198],\n",
      "         [-1.8775,  1.3631, -0.2234]]])\n",
      "tensor([[[ 2.6925,  0.0313,  1.9035],\n",
      "         [-1.2381,  1.2298,  0.6021],\n",
      "         [ 0.7460, -1.8935,  1.3231]],\n",
      "\n",
      "        [[-2.0341,  0.5515,  0.3786],\n",
      "         [ 1.6490,  0.7820, -1.8198],\n",
      "         [-1.8775,  1.3631, -0.2234]]])\n",
      "torch.Size([2, 3, 3])\n"
     ]
    }
   ],
   "source": [
    "# cat = concatenate: 넘파이의 stack과 비슷하지만 쌓을 dim이 존재하고 해당 차원을 늘려준 후 결합\n",
    "a = torch.randn(1, 3, 3)\n",
    "print(a)\n",
    "\n",
    "b = torch.randn(1, 3, 3)\n",
    "print(b)\n",
    "\n",
    "c = torch.cat((a, b), dim=0)\n",
    "print(c)\n",
    "\n",
    "print(c.size())\n",
    "# print(c.shape)"
   ]
  },
  {
   "cell_type": "code",
   "execution_count": 78,
   "id": "5c14eed3",
   "metadata": {},
   "outputs": [
    {
     "name": "stdout",
     "output_type": "stream",
     "text": [
      "tensor([[[ 2.6925,  0.0313,  1.9035],\n",
      "         [-1.2381,  1.2298,  0.6021],\n",
      "         [ 0.7460, -1.8935,  1.3231],\n",
      "         [-2.0341,  0.5515,  0.3786],\n",
      "         [ 1.6490,  0.7820, -1.8198],\n",
      "         [-1.8775,  1.3631, -0.2234]]])\n",
      "torch.Size([1, 6, 3])\n"
     ]
    }
   ],
   "source": [
    "c = torch.cat((a, b), dim=1)\n",
    "print(c)\n",
    "\n",
    "print(c.size())"
   ]
  },
  {
   "cell_type": "code",
   "execution_count": 79,
   "id": "35b64319",
   "metadata": {},
   "outputs": [
    {
     "name": "stdout",
     "output_type": "stream",
     "text": [
      "tensor([[[ 2.6925,  0.0313,  1.9035, -2.0341,  0.5515,  0.3786],\n",
      "         [-1.2381,  1.2298,  0.6021,  1.6490,  0.7820, -1.8198],\n",
      "         [ 0.7460, -1.8935,  1.3231, -1.8775,  1.3631, -0.2234]]])\n",
      "torch.Size([1, 3, 6])\n"
     ]
    }
   ],
   "source": [
    "c = torch.cat((a, b), dim=2)\n",
    "print(c)\n",
    "\n",
    "print(c.size())"
   ]
  },
  {
   "cell_type": "code",
   "execution_count": 80,
   "id": "f5aac959",
   "metadata": {},
   "outputs": [
    {
     "name": "stdout",
     "output_type": "stream",
     "text": [
      "tensor([[0.8586, 0.5738, 0.8346, 0.9655, 0.7328, 0.8582],\n",
      "        [0.2705, 0.3063, 0.6153, 0.1506, 0.4023, 0.4004],\n",
      "        [0.7672, 0.9816, 0.5046, 0.4266, 0.6519, 0.3646]])\n",
      "tensor([[0.8586, 0.5738],\n",
      "        [0.2705, 0.3063],\n",
      "        [0.7672, 0.9816]])\n",
      "tensor([[0.8346, 0.9655],\n",
      "        [0.6153, 0.1506],\n",
      "        [0.5046, 0.4266]])\n",
      "tensor([[0.7328, 0.8582],\n",
      "        [0.4023, 0.4004],\n",
      "        [0.6519, 0.3646]])\n"
     ]
    }
   ],
   "source": [
    "# chunk 텐서를 여러 개로 나눌 때 사용\n",
    "tensor = torch.rand(3, 6)\n",
    "print(tensor)\n",
    "\n",
    "t1, t2, t3 = torch.chunk(tensor, 3, dim=1) # tensor를 3개로 나누는데, 1번째 차원이 기준임\n",
    "print(t1)\n",
    "print(t2)\n",
    "print(t3)"
   ]
  },
  {
   "cell_type": "code",
   "execution_count": 81,
   "id": "3f4fa785",
   "metadata": {},
   "outputs": [
    {
     "name": "stdout",
     "output_type": "stream",
     "text": [
      "tensor([[0.3532, 0.9470, 0.9683, 0.5277, 0.5791, 0.0775],\n",
      "        [0.8586, 0.9524, 0.2441, 0.8027, 0.8926, 0.8332],\n",
      "        [0.8314, 0.5018, 0.5314, 0.8615, 0.3868, 0.1668]])\n",
      "tensor([[0.3532, 0.9470, 0.9683],\n",
      "        [0.8586, 0.9524, 0.2441],\n",
      "        [0.8314, 0.5018, 0.5314]])\n",
      "tensor([[0.5277, 0.5791, 0.0775],\n",
      "        [0.8027, 0.8926, 0.8332],\n",
      "        [0.8615, 0.3868, 0.1668]])\n"
     ]
    }
   ],
   "source": [
    "# split. chunk랑 동일 기능이지만 조금 다름. 나누는 기능이고, 나누는 방식이 다름\n",
    "tensor = torch.rand(3, 6)\n",
    "t1, t2 = torch.split(tensor, 3, dim=1) # chunk는 몇 개로 나눌건지를 묻고, 이건, tensor의 크기가 몇 인지 물어봄\n",
    "# tensor를 3의 크기로 1번째 차원을 기준으로 나눔\n",
    "print(tensor)\n",
    "print(t1)\n",
    "print(t2)"
   ]
  },
  {
   "cell_type": "code",
   "execution_count": 84,
   "id": "0914fccf",
   "metadata": {},
   "outputs": [
    {
     "name": "stdout",
     "output_type": "stream",
     "text": [
      "tensor([1., 1., 1., 1., 1., 1., 1.])\n"
     ]
    }
   ],
   "source": [
    "a = torch.ones(7)\n",
    "print(a)"
   ]
  },
  {
   "cell_type": "code",
   "execution_count": 85,
   "id": "ff8e116a",
   "metadata": {},
   "outputs": [
    {
     "name": "stdout",
     "output_type": "stream",
     "text": [
      "[1. 1. 1. 1. 1. 1. 1.]\n"
     ]
    }
   ],
   "source": [
    "b = a.numpy()\n",
    "print(b) # tensor가 안뜨고 배열로 변환됨"
   ]
  },
  {
   "cell_type": "code",
   "execution_count": 86,
   "id": "5a650c91",
   "metadata": {},
   "outputs": [
    {
     "name": "stdout",
     "output_type": "stream",
     "text": [
      "tensor([2., 2., 2., 2., 2., 2., 2.])\n",
      "[2. 2. 2. 2. 2. 2. 2.]\n"
     ]
    }
   ],
   "source": [
    "a.add_(1)\n",
    "print(a)\n",
    "print(b)"
   ]
  },
  {
   "cell_type": "code",
   "execution_count": 87,
   "id": "cad50c62",
   "metadata": {},
   "outputs": [
    {
     "name": "stdout",
     "output_type": "stream",
     "text": [
      "[2. 2. 2. 2. 2. 2. 2.]\n",
      "tensor([2., 2., 2., 2., 2., 2., 2.], dtype=torch.float64)\n"
     ]
    }
   ],
   "source": [
    "import numpy as np\n",
    "a = np.ones(7)\n",
    "b = torch.from_numpy(a)\n",
    "np.add(a, 1, out=a)\n",
    "print(a)\n",
    "print(b)"
   ]
  },
  {
   "cell_type": "code",
   "execution_count": 89,
   "id": "7f0b023c",
   "metadata": {},
   "outputs": [
    {
     "name": "stdout",
     "output_type": "stream",
     "text": [
      "tensor([[0.6488, 0.5394, 0.8077],\n",
      "        [0.3319, 0.0569, 0.9363],\n",
      "        [0.5004, 0.5079, 0.7605]])\n",
      "tensor([[-0.6858,  0.9408, -0.4072],\n",
      "        [ 1.4264, -1.6284,  0.7851],\n",
      "        [-1.2597, -0.2663, -1.7064]])\n"
     ]
    }
   ],
   "source": [
    "a = torch.rand(3, 3)\n",
    "print(a)\n",
    "\n",
    "a = torch.randn(3, 3)\n",
    "print(a)"
   ]
  },
  {
   "cell_type": "markdown",
   "id": "6c66bd7f",
   "metadata": {},
   "source": [
    "## Autograd 자동미분"
   ]
  },
  {
   "cell_type": "code",
   "execution_count": 94,
   "id": "4848514d",
   "metadata": {},
   "outputs": [
    {
     "name": "stdout",
     "output_type": "stream",
     "text": [
      "tensor([[ 1.4502,  0.6046, -0.5955],\n",
      "        [-0.8505, -0.9494,  1.5795],\n",
      "        [ 0.3939, -0.0971,  0.7750]])\n",
      "tensor([[ 4.3505,  1.8139, -1.7865],\n",
      "        [-2.5515, -2.8483,  4.7386],\n",
      "        [ 1.1818, -0.2912,  2.3250]])\n",
      "False\n"
     ]
    }
   ],
   "source": [
    "a = torch.randn(3, 3)\n",
    "print(a)\n",
    "a = a * 3\n",
    "print(a)\n",
    "print(a.requires_grad) # 기본이 False임. 기존 텐서의 requires_grad 값을 in-place 하여 변경"
   ]
  },
  {
   "cell_type": "code",
   "execution_count": 93,
   "id": "468ed9b0",
   "metadata": {},
   "outputs": [
    {
     "name": "stdout",
     "output_type": "stream",
     "text": [
      "True\n",
      "tensor(158.7438, grad_fn=<SumBackward0>)\n",
      "<SumBackward0 object at 0x00000216D1B20220>\n"
     ]
    }
   ],
   "source": [
    "a.requires_grad_(True)\n",
    "print(a.requires_grad)\n",
    "b = (a * a).sum()\n",
    "print(b)\n",
    "print(b.grad_fn)"
   ]
  },
  {
   "cell_type": "markdown",
   "id": "df59fbdf",
   "metadata": {},
   "source": [
    "### 기울기"
   ]
  },
  {
   "cell_type": "code",
   "execution_count": 112,
   "id": "6d3b8622",
   "metadata": {},
   "outputs": [
    {
     "name": "stdout",
     "output_type": "stream",
     "text": [
      "tensor([[1., 1., 1.],\n",
      "        [1., 1., 1.],\n",
      "        [1., 1., 1.]], requires_grad=True)\n"
     ]
    }
   ],
   "source": [
    "x = torch.ones(3, 3, requires_grad=True)\n",
    "print(x)"
   ]
  },
  {
   "cell_type": "code",
   "execution_count": 113,
   "id": "f39846d6",
   "metadata": {},
   "outputs": [
    {
     "name": "stdout",
     "output_type": "stream",
     "text": [
      "tensor([[6., 6., 6.],\n",
      "        [6., 6., 6.],\n",
      "        [6., 6., 6.]], grad_fn=<AddBackward0>)\n"
     ]
    }
   ],
   "source": [
    "y = x + 5\n",
    "print(y)"
   ]
  },
  {
   "cell_type": "code",
   "execution_count": 114,
   "id": "cbc5e7a1",
   "metadata": {},
   "outputs": [
    {
     "name": "stdout",
     "output_type": "stream",
     "text": [
      "tensor([[36., 36., 36.],\n",
      "        [36., 36., 36.],\n",
      "        [36., 36., 36.]], grad_fn=<MulBackward0>) tensor(36., grad_fn=<MeanBackward0>)\n",
      "tensor([[36., 36., 36.],\n",
      "        [36., 36., 36.],\n",
      "        [36., 36., 36.]], grad_fn=<MulBackward0>)\n",
      "tensor(36., grad_fn=<MeanBackward0>)\n"
     ]
    }
   ],
   "source": [
    "z = y * y\n",
    "out = z.mean()\n",
    "print(z, out)\n",
    "print(z)\n",
    "print(out)"
   ]
  },
  {
   "cell_type": "code",
   "execution_count": 115,
   "id": "b20bb9c4",
   "metadata": {},
   "outputs": [
    {
     "name": "stdout",
     "output_type": "stream",
     "text": [
      "tensor(36., grad_fn=<MeanBackward0>)\n"
     ]
    }
   ],
   "source": [
    "print(out)\n",
    "out.backward() # backward() 호출하면 자동으로 역전파 계산을 한 다음에 .grad 속성에 누적됨."
   ]
  },
  {
   "cell_type": "markdown",
   "id": "5476129b",
   "metadata": {},
   "source": [
    "###grad: data가 거쳐온 layer에 대한 미분값 저장"
   ]
  },
  {
   "cell_type": "code",
   "execution_count": 117,
   "id": "f7104d9e",
   "metadata": {},
   "outputs": [
    {
     "name": "stdout",
     "output_type": "stream",
     "text": [
      "tensor([[1., 1., 1.],\n",
      "        [1., 1., 1.],\n",
      "        [1., 1., 1.]], requires_grad=True)\n",
      "tensor([[1.3333, 1.3333, 1.3333],\n",
      "        [1.3333, 1.3333, 1.3333],\n",
      "        [1.3333, 1.3333, 1.3333]])\n"
     ]
    }
   ],
   "source": [
    "print(x)\n",
    "print(x.grad) # x의 실제 미분값"
   ]
  },
  {
   "cell_type": "code",
   "execution_count": 119,
   "id": "7980a03f",
   "metadata": {},
   "outputs": [
    {
     "name": "stdout",
     "output_type": "stream",
     "text": [
      "tensor([ 0.9628, -0.1008, -0.2156], requires_grad=True)\n",
      "y:  tensor([ 1.9257, -0.2017, -0.4312], grad_fn=<MulBackward0>)\n",
      "tensor([ 985.9471, -103.2500, -220.7934], grad_fn=<MulBackward0>)\n"
     ]
    }
   ],
   "source": [
    "x = torch.randn(3, requires_grad=True)\n",
    "print(x)\n",
    "\n",
    "y  = x * 2\n",
    "print('y: ', y)\n",
    "while y.data.norm() < 1000:\n",
    "    y = y * 2\n",
    "    \n",
    "print(y)"
   ]
  },
  {
   "cell_type": "code",
   "execution_count": 120,
   "id": "245b112e",
   "metadata": {},
   "outputs": [
    {
     "name": "stdout",
     "output_type": "stream",
     "text": [
      "tensor([1.0240e+02, 1.0240e+03, 1.0240e-01])\n"
     ]
    }
   ],
   "source": [
    "v = torch.tensor([0.1, 1.0, 0.0001], dtype=torch.float)\n",
    "y.backward(v)\n",
    "\n",
    "print(x.grad) # v의 값인 0.1, 1.0, 0.0001 기준으로 y인 985.9471, -103.2500, -220.7934이 세 값들에 대해서 계산을 해줌"
   ]
  },
  {
   "cell_type": "markdown",
   "id": "73e0b2ae",
   "metadata": {},
   "source": [
    "#### with torch.no_grad()를 사용하여 기울기의 업데이트를 하지 않음 -> 기울기 계산 안함\n",
    "#### requires_grad=True로 설정되어 학습 가능한 매개변수를 갖는 모델을 평가(evaluate)할 때 유용"
   ]
  },
  {
   "cell_type": "code",
   "execution_count": 121,
   "id": "dd13db96",
   "metadata": {},
   "outputs": [
    {
     "name": "stdout",
     "output_type": "stream",
     "text": [
      "True\n",
      "True\n",
      "False\n"
     ]
    }
   ],
   "source": [
    "print(x.requires_grad)\n",
    "print((x ** 2).requires_grad)\n",
    "\n",
    "with torch.no_grad():\n",
    "    print((x ** 2).requires_grad)"
   ]
  },
  {
   "cell_type": "markdown",
   "id": "e1378818",
   "metadata": {},
   "source": [
    "#### detach(): 내용물은 같지만 requires_grad가 다른 새로운 Tensor를 가져올 때 사용"
   ]
  },
  {
   "cell_type": "code",
   "execution_count": 123,
   "id": "9f996386",
   "metadata": {},
   "outputs": [
    {
     "name": "stdout",
     "output_type": "stream",
     "text": [
      "True\n",
      "False\n",
      "tensor(True)\n",
      "tensor([ 0.9628, -0.1008, -0.2156], requires_grad=True)\n",
      "tensor([ 0.9628, -0.1008, -0.2156])\n"
     ]
    }
   ],
   "source": [
    "print(x.requires_grad)\n",
    "y = x.detach()\n",
    "print(y.requires_grad)\n",
    "print(x.eq(y).all())\n",
    "print(x)\n",
    "print(y)"
   ]
  },
  {
   "cell_type": "markdown",
   "id": "ba68aad3",
   "metadata": {},
   "source": [
    "### 자동 미분 흐름 예제\n",
    "#### 계산흐름: a -> b -> c -> out\n",
    "#### backward()를 통해 a <- b <- c <- out 을 계산하면 out을 a에 대해 미분한 값이 a.grad에 값이 채워짐"
   ]
  },
  {
   "cell_type": "code",
   "execution_count": 124,
   "id": "0e7f7f6e",
   "metadata": {},
   "outputs": [
    {
     "name": "stdout",
     "output_type": "stream",
     "text": [
      "tensor([[1., 1.],\n",
      "        [1., 1.]])\n"
     ]
    }
   ],
   "source": [
    "a = torch.ones(2, 2)\n",
    "print(a)"
   ]
  },
  {
   "cell_type": "code",
   "execution_count": 125,
   "id": "265dd1b1",
   "metadata": {},
   "outputs": [
    {
     "name": "stdout",
     "output_type": "stream",
     "text": [
      "tensor([[1., 1.],\n",
      "        [1., 1.]], requires_grad=True)\n"
     ]
    }
   ],
   "source": [
    "a = torch.ones(2, 2, requires_grad=True)\n",
    "print(a)"
   ]
  },
  {
   "cell_type": "code",
   "execution_count": 126,
   "id": "68a998a2",
   "metadata": {},
   "outputs": [],
   "source": [
    "%config Completer.use_jedi = False"
   ]
  },
  {
   "cell_type": "code",
   "execution_count": 127,
   "id": "d0982da7",
   "metadata": {},
   "outputs": [
    {
     "name": "stdout",
     "output_type": "stream",
     "text": [
      "tensor([[1., 1.],\n",
      "        [1., 1.]])\n",
      "None\n",
      "None\n"
     ]
    }
   ],
   "source": [
    "print(a.data)\n",
    "print(a.grad) \n",
    "print(a.grad_fn) # 직접적으로 계산한 부분이 없었기 때문에 None"
   ]
  },
  {
   "cell_type": "code",
   "execution_count": 129,
   "id": "53932610",
   "metadata": {},
   "outputs": [
    {
     "name": "stdout",
     "output_type": "stream",
     "text": [
      "tensor([[3., 3.],\n",
      "        [3., 3.]], grad_fn=<AddBackward0>)\n",
      "tensor([[3., 3.],\n",
      "        [3., 3.]])\n"
     ]
    }
   ],
   "source": [
    "b = a + 2\n",
    "print(b)\n",
    "print(b.data)"
   ]
  },
  {
   "cell_type": "code",
   "execution_count": 130,
   "id": "5666d332",
   "metadata": {},
   "outputs": [
    {
     "name": "stdout",
     "output_type": "stream",
     "text": [
      "tensor([[9., 9.],\n",
      "        [9., 9.]], grad_fn=<PowBackward0>)\n"
     ]
    }
   ],
   "source": [
    "c = b **2\n",
    "print(c)"
   ]
  },
  {
   "cell_type": "code",
   "execution_count": 131,
   "id": "3b256292",
   "metadata": {},
   "outputs": [
    {
     "name": "stdout",
     "output_type": "stream",
     "text": [
      "tensor(36., grad_fn=<SumBackward0>)\n"
     ]
    }
   ],
   "source": [
    "out = c.sum()\n",
    "print(out)"
   ]
  },
  {
   "cell_type": "markdown",
   "id": "c0ddfd32",
   "metadata": {},
   "source": [
    "#### backward 시작"
   ]
  },
  {
   "cell_type": "code",
   "execution_count": 133,
   "id": "0d859bf6",
   "metadata": {},
   "outputs": [
    {
     "name": "stdout",
     "output_type": "stream",
     "text": [
      "tensor(36., grad_fn=<SumBackward0>)\n"
     ]
    }
   ],
   "source": [
    "print(out)\n",
    "out.backward() ## out에서부터 backward. \n",
    "# 첫 backward는 sumbackward인데 최종 out에서 sumbackward가 일어났으니 이게 맞음."
   ]
  },
  {
   "cell_type": "code",
   "execution_count": 134,
   "id": "01675183",
   "metadata": {},
   "outputs": [
    {
     "name": "stdout",
     "output_type": "stream",
     "text": [
      "tensor([[1., 1.],\n",
      "        [1., 1.]])\n",
      "tensor([[6., 6.],\n",
      "        [6., 6.]])\n",
      "None\n"
     ]
    }
   ],
   "source": [
    "print(a.data)\n",
    "print(a.grad)  # 미분된 값\n",
    "print(a.grad_fn) # 직접적으로 계산한 부분이 없었기 때문에 None. a값을 활용한 것이고 반영된 것은 없어서 None임"
   ]
  },
  {
   "cell_type": "code",
   "execution_count": 135,
   "id": "2edc7df5",
   "metadata": {},
   "outputs": [
    {
     "name": "stdout",
     "output_type": "stream",
     "text": [
      "tensor([[3., 3.],\n",
      "        [3., 3.]])\n",
      "None\n",
      "<AddBackward0 object at 0x000002169838AFD0>\n"
     ]
    },
    {
     "name": "stderr",
     "output_type": "stream",
     "text": [
      "C:\\Users\\user\\anaconda3\\envs\\pytorch\\lib\\site-packages\\torch\\_tensor.py:1083: UserWarning: The .grad attribute of a Tensor that is not a leaf Tensor is being accessed. Its .grad attribute won't be populated during autograd.backward(). If you indeed want the .grad field to be populated for a non-leaf Tensor, use .retain_grad() on the non-leaf Tensor. If you access the non-leaf Tensor by mistake, make sure you access the leaf Tensor instead. See github.com/pytorch/pytorch/pull/30531 for more informations. (Triggered internally at  C:\\cb\\pytorch_1000000000000\\work\\build\\aten\\src\\ATen/core/TensorBody.h:482.)\n",
      "  return self._grad\n"
     ]
    }
   ],
   "source": [
    "print(b.data)\n",
    "print(b.grad)  # 미분된 값\n",
    "print(b.grad_fn)"
   ]
  },
  {
   "cell_type": "code",
   "execution_count": 136,
   "id": "2dd5d9e1",
   "metadata": {},
   "outputs": [
    {
     "name": "stdout",
     "output_type": "stream",
     "text": [
      "tensor([[9., 9.],\n",
      "        [9., 9.]])\n",
      "None\n",
      "<PowBackward0 object at 0x00000216CA08FC40>\n"
     ]
    }
   ],
   "source": [
    "print(c.data)\n",
    "print(c.grad)  # 미분된 값\n",
    "print(c.grad_fn)"
   ]
  },
  {
   "cell_type": "code",
   "execution_count": 137,
   "id": "6dd07f65",
   "metadata": {},
   "outputs": [
    {
     "name": "stdout",
     "output_type": "stream",
     "text": [
      "tensor(36.)\n",
      "None\n",
      "<SumBackward0 object at 0x0000021685C804C0>\n"
     ]
    }
   ],
   "source": [
    "print(out.data) # 다 더했으니까 36\n",
    "print(out.grad)  # 미분된 값\n",
    "print(out.grad_fn)"
   ]
  },
  {
   "cell_type": "markdown",
   "id": "d2e41eb7",
   "metadata": {},
   "source": [
    "### 딥러닝"
   ]
  },
  {
   "cell_type": "markdown",
   "id": "a58e0d17",
   "metadata": {},
   "source": [
    "#### 데이터 준비를 위해 torch.utils.data의 Dataset과 DataLoader 사용가능\n",
    "#### Dataset과 DataLoader를 통해 batch_size, train 여부, transform 등을 인자로 넣어 데이터를 어떻게 load할 것인지 정의 가능"
   ]
  },
  {
   "cell_type": "code",
   "execution_count": 138,
   "id": "caf69e13",
   "metadata": {},
   "outputs": [],
   "source": [
    "from torch.utils.data import Dataset, DataLoader"
   ]
  },
  {
   "cell_type": "code",
   "execution_count": 140,
   "id": "074796a9",
   "metadata": {},
   "outputs": [],
   "source": [
    "import torchvision.transforms as transforms\n",
    "from torchvision import datasets\n",
    "# 토치비전은 파이토치에서 제공하는 데이터셋들이 모여있는 패키지\n",
    "# transforms: 전처리할 때 사용하는 메소드\n",
    "# transforms에서 제공하는 클래스 이외에는 일반적으로 클래스를 따로 만들어 전처리 단계를 진행\n",
    "# DataLoader의 인자로 들어갈 transform을 미리 정의할 수 있고, Compose를 통해 리스트 안의 순서대로 전처리 진행\n",
    "# ToTensor()를 하는 이유는 토치비전이 PIL Image 형태로만 입력을 받기 때문에 데이터 처리를 위해 Tensor 형으로 변환이 필요함"
   ]
  },
  {
   "cell_type": "code",
   "execution_count": 141,
   "id": "0a7ba090",
   "metadata": {},
   "outputs": [],
   "source": [
    "mnist_transform = transforms.Compose([transforms.ToTensor(),\n",
    "                                     transforms.Normalize(mean=(0.5,), std=(1.0,))]) # 미리 한거"
   ]
  },
  {
   "cell_type": "code",
   "execution_count": 142,
   "id": "60af6352",
   "metadata": {},
   "outputs": [
    {
     "name": "stdout",
     "output_type": "stream",
     "text": [
      "Downloading http://yann.lecun.com/exdb/mnist/train-images-idx3-ubyte.gz\n"
     ]
    },
    {
     "name": "stderr",
     "output_type": "stream",
     "text": [
      "\r",
      "0.3%"
     ]
    },
    {
     "name": "stdout",
     "output_type": "stream",
     "text": [
      "Downloading http://yann.lecun.com/exdb/mnist/train-images-idx3-ubyte.gz to ./dataset/MNIST\\raw\\train-images-idx3-ubyte.gz\n"
     ]
    },
    {
     "name": "stderr",
     "output_type": "stream",
     "text": [
      "100.0%\n"
     ]
    },
    {
     "name": "stdout",
     "output_type": "stream",
     "text": [
      "Extracting ./dataset/MNIST\\raw\\train-images-idx3-ubyte.gz to ./dataset/MNIST\\raw\n",
      "\n",
      "Downloading http://yann.lecun.com/exdb/mnist/train-labels-idx1-ubyte.gz\n",
      "Downloading http://yann.lecun.com/exdb/mnist/train-labels-idx1-ubyte.gz to ./dataset/MNIST\\raw\\train-labels-idx1-ubyte.gz\n"
     ]
    },
    {
     "name": "stderr",
     "output_type": "stream",
     "text": [
      "100.0%\n"
     ]
    },
    {
     "name": "stdout",
     "output_type": "stream",
     "text": [
      "Extracting ./dataset/MNIST\\raw\\train-labels-idx1-ubyte.gz to ./dataset/MNIST\\raw\n",
      "\n",
      "Downloading http://yann.lecun.com/exdb/mnist/t10k-images-idx3-ubyte.gz\n",
      "Downloading http://yann.lecun.com/exdb/mnist/t10k-images-idx3-ubyte.gz to ./dataset/MNIST\\raw\\t10k-images-idx3-ubyte.gz\n"
     ]
    },
    {
     "name": "stderr",
     "output_type": "stream",
     "text": [
      "100.0%\n"
     ]
    },
    {
     "name": "stdout",
     "output_type": "stream",
     "text": [
      "Extracting ./dataset/MNIST\\raw\\t10k-images-idx3-ubyte.gz to ./dataset/MNIST\\raw\n",
      "\n",
      "Downloading http://yann.lecun.com/exdb/mnist/t10k-labels-idx1-ubyte.gz\n"
     ]
    },
    {
     "name": "stderr",
     "output_type": "stream",
     "text": [
      "\r",
      "100.0%"
     ]
    },
    {
     "name": "stdout",
     "output_type": "stream",
     "text": [
      "Downloading http://yann.lecun.com/exdb/mnist/t10k-labels-idx1-ubyte.gz to ./dataset/MNIST\\raw\\t10k-labels-idx1-ubyte.gz\n",
      "Extracting ./dataset/MNIST\\raw\\t10k-labels-idx1-ubyte.gz to ./dataset/MNIST\\raw\n",
      "\n"
     ]
    },
    {
     "name": "stderr",
     "output_type": "stream",
     "text": [
      "\n"
     ]
    }
   ],
   "source": [
    "trainset = datasets.MNIST(root='./dataset/', \n",
    "                          train=True, download=True, \n",
    "                          transform=mnist_transform)\n",
    "testset = datasets.MNIST(root='./dataset/', \n",
    "                          train=False, download=True, \n",
    "                          transform=mnist_transform)"
   ]
  },
  {
   "cell_type": "code",
   "execution_count": 143,
   "id": "aca85e1d",
   "metadata": {},
   "outputs": [],
   "source": [
    "### DataLoader는 데이터 전체를 보관했다가 실제 모델을 학습할 때 batch_size 크기만큼 데이터를 가져옴\n",
    "train_loader = DataLoader(trainset, batch_size=8, shuffle=True, num_workers=2)\n",
    "test_loader = DataLoader(testset, batch_size=8, shuffle=False, num_workers=2)"
   ]
  },
  {
   "cell_type": "code",
   "execution_count": 145,
   "id": "9b40b4ce",
   "metadata": {},
   "outputs": [
    {
     "data": {
      "text/plain": [
       "(torch.Size([8, 1, 28, 28]), torch.Size([8]))"
      ]
     },
     "execution_count": 145,
     "metadata": {},
     "output_type": "execute_result"
    }
   ],
   "source": [
    "dataiter = iter(train_loader)\n",
    "images, labels = dataiter.next() #next = 한 번만\n",
    "images.shape, labels.shape # 28x28짜리 흑백이미지 하나고 그게 8장 있음."
   ]
  },
  {
   "cell_type": "code",
   "execution_count": 146,
   "id": "91e5b5ee",
   "metadata": {},
   "outputs": [
    {
     "data": {
      "text/plain": [
       "torch.Size([28, 28])"
      ]
     },
     "execution_count": 146,
     "metadata": {},
     "output_type": "execute_result"
    }
   ],
   "source": [
    "torch_image = torch_image = torch.squeeze(images[0]) #squeeze는 차원 축소\n",
    "torch_image.shape # torch.Size([8, 1, 28, 28] -> torch.Size([28, 28]) 사진 8장에서 1장으로."
   ]
  },
  {
   "cell_type": "code",
   "execution_count": 155,
   "id": "eef1735b",
   "metadata": {},
   "outputs": [
    {
     "name": "stdout",
     "output_type": "stream",
     "text": [
      "5779\n",
      "46996\n",
      "51119\n",
      "53050\n",
      "50197\n",
      "57235\n",
      "31951\n",
      "53940\n"
     ]
    },
    {
     "data": {
      "image/png": "[encoded data removed]",
      "text/plain": [
       "<Figure size 1200x600 with 8 Axes>"
      ]
     },
     "metadata": {},
     "output_type": "display_data"
    }
   ],
   "source": [
    "import matplotlib.pyplot as plt\n",
    "figure = plt.figure(figsize=(12, 6))\n",
    "cols, rows = 4, 2\n",
    "\n",
    "for i in range(1, cols * rows + 1):\n",
    "    \n",
    "    sample_idx = torch.randint(len(trainset), size=(1, )).item()\n",
    "    img, label = trainset[sample_idx]\n",
    "    figure.add_subplot(rows, cols, i) # subplot으로 rows, colunms의 i번째에 add해줌\n",
    "    plt.title(label)\n",
    "    plt.axis('off')\n",
    "    plt.imshow(img.squeeze(), cmap='gray')\n",
    "    print(sample_idx)\n",
    "plt.show()\n",
    "# 주어진 범위 내(len(trainset))의 정수를 균등하게 생성. \n",
    "# len(trainset)만큼의 범위에서 size=1개이므로 랜덤값을 하나 가져오는데 item()으로 인해 가져온 값의 실제값을 인덱스로 사용함"
   ]
  },
  {
   "cell_type": "markdown",
   "id": "2489896c",
   "metadata": {},
   "source": [
    "### 신경망 구성\n",
    "#### 레이어(layer): 신경망의 핵심 데이터 구조로, 하나 이상의 Tensor를 입력받아 하나 이상의 Tensor를 출력\n",
    "#### 모듈(module): 한 개 이상의 계층이 모여서 구성\n",
    "#### 모델(model): 한 개 이상의 모듈이 모여서 구성\n",
    "##### 레이어 -> 모듈 -> 모델"
   ]
  },
  {
   "cell_type": "code",
   "execution_count": 156,
   "id": "0d7c6c90",
   "metadata": {},
   "outputs": [],
   "source": [
    "import torch.nn as nn"
   ]
  },
  {
   "cell_type": "code",
   "execution_count": 159,
   "id": "3257010f",
   "metadata": {},
   "outputs": [
    {
     "name": "stdout",
     "output_type": "stream",
     "text": [
      "tensor([[ 1.6612,  0.0408,  0.9741,  ...,  0.1338,  0.4007, -0.1482],\n",
      "        [ 1.3216, -0.8585,  0.7785,  ...,  1.8071, -1.4859,  0.8211],\n",
      "        [ 0.2964, -0.7100, -1.1999,  ...,  0.6409,  0.9147,  1.0534],\n",
      "        ...,\n",
      "        [-0.7894, -1.3189,  0.6112,  ...,  0.0152, -1.1869,  0.2518],\n",
      "        [ 2.4831,  1.3767, -0.5090,  ..., -0.5293, -0.7020, -2.1058],\n",
      "        [-0.5512, -1.3442,  1.3901,  ...,  0.3212,  2.4066, -1.6468]])\n",
      "Linear(in_features=20, out_features=30, bias=True)\n",
      "tensor([[-0.0867, -0.7983,  0.7341,  ...,  0.2020,  0.7571,  0.4785],\n",
      "        [ 0.1068, -1.0126,  0.2542,  ...,  0.4144,  0.4247,  0.0185],\n",
      "        [ 0.6103,  0.3718, -1.1401,  ...,  0.7850, -0.0387,  0.2774],\n",
      "        ...,\n",
      "        [ 0.4504, -0.1881, -0.2590,  ...,  0.4493, -0.7462,  0.2591],\n",
      "        [ 0.3539, -0.1894,  0.7380,  ...,  0.5644,  1.3078,  0.7600],\n",
      "        [-1.3879, -1.4646, -0.0781,  ...,  0.2245, -1.3258, -0.3623]],\n",
      "       grad_fn=<AddmmBackward0>)\n",
      "torch.Size([128, 30])\n"
     ]
    }
   ],
   "source": [
    "# nn.Linear 계층 예제\n",
    "input = torch.randn(128, 20)\n",
    "print(input)\n",
    "\n",
    "m = nn.Linear(20, 30) # 입력되는 features가 20개, 출력되는 features가 30개인 모델\n",
    "print(m)\n",
    "\n",
    "output = m(input) # output은 실제적인 모델의 입력값을 넣었을 때의 결과값\n",
    "print(output)\n",
    "print(output.size())"
   ]
  },
  {
   "cell_type": "markdown",
   "id": "bb60a5ea",
   "metadata": {},
   "source": [
    "### nn.Conv2d 계층 예시"
   ]
  },
  {
   "cell_type": "code",
   "execution_count": 160,
   "id": "de246977",
   "metadata": {},
   "outputs": [
    {
     "name": "stdout",
     "output_type": "stream",
     "text": [
      "torch.Size([20, 16, 50, 100])\n"
     ]
    }
   ],
   "source": [
    "input = torch.randn(20, 16, 50, 100)\n",
    "print(input.size())"
   ]
  },
  {
   "cell_type": "code",
   "execution_count": 161,
   "id": "3294660d",
   "metadata": {},
   "outputs": [
    {
     "name": "stdout",
     "output_type": "stream",
     "text": [
      "Conv2d(16, 33, kernel_size=(3, 5), stride=(2, 2), padding=(4, 2), dilation=(3, 1))\n"
     ]
    }
   ],
   "source": [
    "m = nn.Conv2d(16, 33, 3, stride=2)\n",
    "m = nn.Conv2d(16, 33, (3, 5), stride=2, padding=(4, 2))\n",
    "m = nn.Conv2d(16, 33, (3, 5), stride=2, padding=(4, 2), dilation=(3, 1)) #in channel:16, out channel:33\n",
    "print(m)"
   ]
  },
  {
   "cell_type": "code",
   "execution_count": 162,
   "id": "b86372bc",
   "metadata": {},
   "outputs": [
    {
     "name": "stdout",
     "output_type": "stream",
     "text": [
      "torch.Size([20, 33, 26, 50])\n"
     ]
    }
   ],
   "source": [
    "output = m(input)\n",
    "print(output.size())"
   ]
  },
  {
   "cell_type": "markdown",
   "id": "bf0a0e5a",
   "metadata": {},
   "source": [
    "### 컨볼루션 레이어\n",
    "#### nn.Conv2d 예제\n",
    "#### in_channels: channel의 갯수, out_channels: 출력 채널의 갯수, kernel_size: 커널(필터)사이즈"
   ]
  },
  {
   "cell_type": "code",
   "execution_count": 163,
   "id": "58d5da86",
   "metadata": {},
   "outputs": [
    {
     "data": {
      "text/plain": [
       "Conv2d(1, 20, kernel_size=(5, 5), stride=(1, 1))"
      ]
     },
     "execution_count": 163,
     "metadata": {},
     "output_type": "execute_result"
    }
   ],
   "source": [
    "nn.Conv2d(in_channels=1, out_channels=20, kernel_size=5, stride=1)"
   ]
  },
  {
   "cell_type": "code",
   "execution_count": 168,
   "id": "f5288692",
   "metadata": {},
   "outputs": [
    {
     "data": {
      "text/plain": [
       "Conv2d(1, 20, kernel_size=(5, 5), stride=(1, 1))"
      ]
     },
     "execution_count": 168,
     "metadata": {},
     "output_type": "execute_result"
    }
   ],
   "source": [
    "layer = layer = nn.Conv2d(1, 20, 5, 1).to(torch.device('cpu'))\n",
    "layer"
   ]
  },
  {
   "cell_type": "markdown",
   "id": "c2605b48",
   "metadata": {},
   "source": [
    "#### weight 확인"
   ]
  },
  {
   "cell_type": "code",
   "execution_count": 169,
   "id": "8e8fc352",
   "metadata": {},
   "outputs": [
    {
     "data": {
      "text/plain": [
       "torch.Size([20, 1, 5, 5])"
      ]
     },
     "execution_count": 169,
     "metadata": {},
     "output_type": "execute_result"
    }
   ],
   "source": [
    "weight = layer.weight\n",
    "weight.shape # out_channels, in_channels, kernel_size"
   ]
  },
  {
   "cell_type": "markdown",
   "id": "2287fcf2",
   "metadata": {},
   "source": [
    "#### weight는 detach()를 통해 꺼내줘야 numpy() 변환이 가능"
   ]
  },
  {
   "cell_type": "code",
   "execution_count": 170,
   "id": "aa924703",
   "metadata": {},
   "outputs": [],
   "source": [
    "weight = weight.detach()"
   ]
  },
  {
   "cell_type": "code",
   "execution_count": 171,
   "id": "d97a33cb",
   "metadata": {},
   "outputs": [
    {
     "data": {
      "text/plain": [
       "(20, 1, 5, 5)"
      ]
     },
     "execution_count": 171,
     "metadata": {},
     "output_type": "execute_result"
    }
   ],
   "source": [
    "weight = weight.numpy()\n",
    "weight.shape # 컨볼루션 계층에 있는 가중치 값 하나를 끄집어낸 레이어 값"
   ]
  },
  {
   "cell_type": "code",
   "execution_count": 172,
   "id": "31815f69",
   "metadata": {},
   "outputs": [
    {
     "data": {
      "image/png": "[encoded data removed]",
      "text/plain": [
       "<Figure size 640x480 with 2 Axes>"
      ]
     },
     "metadata": {},
     "output_type": "display_data"
    }
   ],
   "source": [
    "plt.imshow(weight[0, 0, :, :], 'jet')\n",
    "plt.colorbar()\n",
    "plt.show()\n",
    "### 컨볼루션 계층 하나의 weight 값을 가져와 컬러로 표현한 것임. gray도 가능. 값이 많으면 빨간색 적으면 파란색"
   ]
  },
  {
   "cell_type": "code",
   "execution_count": 173,
   "id": "6339d37c",
   "metadata": {},
   "outputs": [
    {
     "name": "stdout",
     "output_type": "stream",
     "text": [
      "torch.Size([8, 1, 28, 28])\n",
      "torch.Size([1, 28, 28])\n",
      "torch.Size([28, 28])\n"
     ]
    }
   ],
   "source": [
    "### MNIST 데이터에 대해 위 작업 수행\n",
    "print(images.shape)\n",
    "print(images[0].size())\n",
    "\n",
    "input_image =torch.squeeze(images[0])\n",
    "print(input_image.size())"
   ]
  },
  {
   "cell_type": "code",
   "execution_count": 175,
   "id": "ff4fd282",
   "metadata": {},
   "outputs": [
    {
     "name": "stdout",
     "output_type": "stream",
     "text": [
      "torch.Size([1, 28, 28])\n",
      "torch.Size([1, 1, 28, 28])\n"
     ]
    },
    {
     "data": {
      "text/plain": [
       "(1, 20, 24, 24)"
      ]
     },
     "execution_count": 175,
     "metadata": {},
     "output_type": "execute_result"
    }
   ],
   "source": [
    "print(images[0].shape)\n",
    "input_data = torch.unsqueeze(images[0], dim=0)\n",
    "print(input_data.size())\n",
    "\n",
    "output_data = layer(input_data)\n",
    "output = output_data.data\n",
    "output_arr = output.numpy()\n",
    "output_arr.shape # layer를 통과시킨 것에 대한 데이터만 뽑아 넘파이로 바꾼 것의 shape. 레이어 통과하니까 1, 20, 24, 24의 형태를 갖춤 "
   ]
  },
  {
   "cell_type": "code",
   "execution_count": 179,
   "id": "64a77d82",
   "metadata": {},
   "outputs": [
    {
     "data": {
      "text/plain": [
       "<matplotlib.image.AxesImage at 0x217094931f0>"
      ]
     },
     "execution_count": 179,
     "metadata": {},
     "output_type": "execute_result"
    },
    {
     "data": {
      "image/png": "[encoded data removed]",
      "text/plain": [
       "<Figure size 1500x3000 with 3 Axes>"
      ]
     },
     "metadata": {},
     "output_type": "display_data"
    }
   ],
   "source": [
    "plt.figure(figsize=(15, 30))\n",
    "\n",
    "plt.subplot(131)\n",
    "plt.title('Input')\n",
    "plt.imshow(input_image, 'gray')\n",
    "\n",
    "plt.subplot(132)\n",
    "plt.title('Weight')\n",
    "plt.imshow(weight[0, 0, :, :], 'jet')\n",
    "\n",
    "plt.subplot(133)\n",
    "plt.title('Output')\n",
    "plt.imshow(output_arr[0, 0, :, :], 'gray')\n",
    "\n",
    "## 랜덤하게 첫 이미지가 8이 나왔는데 숫자 데이터 8이 컨볼루션 레이어 지나고 가중치 적용했을 때가 Output임"
   ]
  },
  {
   "cell_type": "markdown",
   "id": "7810f20b",
   "metadata": {},
   "source": [
    "### 풀링 레이어(Pooling layers)"
   ]
  },
  {
   "cell_type": "markdown",
   "id": "0ec30424",
   "metadata": {},
   "source": [
    "#### F.max_pool2d\n",
    "#### stride, kernel_size 정의 가능, torch.nn.MaxPool2d도 많이 사용"
   ]
  },
  {
   "cell_type": "code",
   "execution_count": 180,
   "id": "7ba6124d",
   "metadata": {},
   "outputs": [
    {
     "data": {
      "text/plain": [
       "torch.Size([1, 20, 12, 12])"
      ]
     },
     "execution_count": 180,
     "metadata": {},
     "output_type": "execute_result"
    }
   ],
   "source": [
    "import torch.nn.functional as F\n",
    "\n",
    "pool = F.max_pool2d(output, 2, 2) # output = output_data.data\n",
    "pool.shape"
   ]
  },
  {
   "cell_type": "markdown",
   "id": "3402fbad",
   "metadata": {},
   "source": [
    "#### MaxPool Layer는 weight가 없기 때문에 바로 numpy 변환이 가능하다"
   ]
  },
  {
   "cell_type": "code",
   "execution_count": 181,
   "id": "dfa0e02a",
   "metadata": {},
   "outputs": [
    {
     "data": {
      "text/plain": [
       "(1, 20, 12, 12)"
      ]
     },
     "execution_count": 181,
     "metadata": {},
     "output_type": "execute_result"
    }
   ],
   "source": [
    "pool_arr = pool.numpy()\n",
    "pool_arr.shape\n",
    "##### 결과값으로 output이 (1, 20, 24, 24)였는데 F.max_pool2d(output, 2, 2) 이니까 \n",
    "##### 2개를 기준으로 max 값만 저장해달라는 의미로, 24-> 12가 됨."
   ]
  },
  {
   "cell_type": "code",
   "execution_count": 182,
   "id": "9a6634cb",
   "metadata": {},
   "outputs": [
    {
     "data": {
      "image/png": "[encoded data removed]",
      "text/plain": [
       "<Figure size 1000x1500 with 2 Axes>"
      ]
     },
     "metadata": {},
     "output_type": "display_data"
    }
   ],
   "source": [
    "plt.figure(figsize=(10, 15))\n",
    "\n",
    "plt.subplot(121)\n",
    "plt.title('Input')\n",
    "plt.imshow(input_image, 'gray')\n",
    "\n",
    "plt.subplot(122)\n",
    "plt.title('Output') # pooling은 weight없음\n",
    "plt.imshow(pool_arr[0, 0, :, :], 'gray') # jet안되고 gray로 똑같이 맞춰줘야함\n",
    "\n",
    "plt.show() # 8이 풀링레이어 거치면 해상도가 반으로 줄어들음. 2x2짜리를 하나로 합쳐버림. 2x2 짜리 중 최대값을 가지도록 output이 나옴"
   ]
  },
  {
   "cell_type": "markdown",
   "id": "dff14320",
   "metadata": {},
   "source": [
    "#### 선형 레이어(Linear layers) - 1d만 가능하므로, .view()를 통해 1d로 펼쳐줘야함"
   ]
  },
  {
   "cell_type": "code",
   "execution_count": 183,
   "id": "f30cd8ee",
   "metadata": {},
   "outputs": [
    {
     "data": {
      "text/plain": [
       "torch.Size([1, 784])"
      ]
     },
     "execution_count": 183,
     "metadata": {},
     "output_type": "execute_result"
    }
   ],
   "source": [
    "flatten = input_image.view(1, 28 * 28)\n",
    "flatten.shape"
   ]
  },
  {
   "cell_type": "code",
   "execution_count": 184,
   "id": "25805990",
   "metadata": {},
   "outputs": [
    {
     "data": {
      "text/plain": [
       "torch.Size([1, 10])"
      ]
     },
     "execution_count": 184,
     "metadata": {},
     "output_type": "execute_result"
    }
   ],
   "source": [
    "lin = nn.Linear(784, 10)(flatten) # flatten에 저장된 값을 입력을 784개로 넣어서 출력을 10개로 만듦.\n",
    "lin.shape"
   ]
  },
  {
   "cell_type": "code",
   "execution_count": 185,
   "id": "b7e80501",
   "metadata": {},
   "outputs": [
    {
     "data": {
      "text/plain": [
       "tensor([[ 0.4837,  0.1429,  0.4199,  0.1385,  0.3564,  0.2485,  0.1816,  0.0877,\n",
       "         -0.1262, -0.2376]], grad_fn=<AddmmBackward0>)"
      ]
     },
     "execution_count": 185,
     "metadata": {},
     "output_type": "execute_result"
    }
   ],
   "source": [
    "lin"
   ]
  },
  {
   "cell_type": "code",
   "execution_count": 186,
   "id": "47dfe0a7",
   "metadata": {},
   "outputs": [
    {
     "data": {
      "image/png": "[encoded data removed]",
      "text/plain": [
       "<Figure size 640x480 with 2 Axes>"
      ]
     },
     "metadata": {},
     "output_type": "display_data"
    }
   ],
   "source": [
    "plt.imshow(lin.detach().numpy(), 'jet') # 시각화 위함\n",
    "plt.colorbar()\n",
    "plt.show() # 784개의 입력이 10개의 출력으로 감소함"
   ]
  },
  {
   "cell_type": "markdown",
   "id": "5fa31558",
   "metadata": {},
   "source": [
    "### 비선형 활성화(Non-linear Activations)\n",
    "#### F.softmax와 같은 함수"
   ]
  },
  {
   "cell_type": "code",
   "execution_count": 187,
   "id": "81aa7a5e",
   "metadata": {},
   "outputs": [
    {
     "data": {
      "text/plain": [
       "tensor([[0.0991, 0.0733, 0.0953, 0.0755, 0.1208, 0.1313, 0.1035, 0.0504, 0.0985,\n",
       "         0.1523]])"
      ]
     },
     "execution_count": 187,
     "metadata": {},
     "output_type": "execute_result"
    }
   ],
   "source": [
    "with torch.no_grad():\n",
    "    flatten = input_image.view(1, 28 * 28)\n",
    "    lin = nn.Linear(784, 10)(flatten) \n",
    "    softmax = F.softmax(lin, dim=1) # input이 lin을 거쳐서 softmax를 마지막으로 수행\n",
    "softmax"
   ]
  },
  {
   "cell_type": "code",
   "execution_count": 188,
   "id": "277dcfa0",
   "metadata": {},
   "outputs": [
    {
     "data": {
      "text/plain": [
       "1.0"
      ]
     },
     "execution_count": 188,
     "metadata": {},
     "output_type": "execute_result"
    }
   ],
   "source": [
    "#### 위 값에 대해 실제로 계산\n",
    "np.sum(softmax.numpy()) # softmax 결과값은 모든 종류에 대한 합이 100%가 되게 함"
   ]
  },
  {
   "cell_type": "markdown",
   "id": "e0dde076",
   "metadata": {},
   "source": [
    "#### F.ReLU  (nn.ReLU로도 사용가능)"
   ]
  },
  {
   "cell_type": "code",
   "execution_count": 189,
   "id": "f14604c1",
   "metadata": {},
   "outputs": [
    {
     "data": {
      "text/plain": [
       "torch.Size([4, 3, 28, 28])"
      ]
     },
     "execution_count": 189,
     "metadata": {},
     "output_type": "execute_result"
    }
   ],
   "source": [
    "inputs = torch.randn(4, 3, 28, 28).to(device) # 컬러 이미지 4개\n",
    "inputs.shape"
   ]
  },
  {
   "cell_type": "code",
   "execution_count": 193,
   "id": "11e7c224",
   "metadata": {},
   "outputs": [
    {
     "data": {
      "text/plain": [
       "torch.Size([4, 20, 24, 24])"
      ]
     },
     "execution_count": 193,
     "metadata": {},
     "output_type": "execute_result"
    }
   ],
   "source": [
    "layer = nn.Conv2d(3, 20, 5, 1).to(device) # 컨볼루션 통과 > cuda로 넘어감\n",
    "output = F.relu(layer(inputs)) # layer에 통과시킨 inpputs의 결과값\n",
    "output.shape # inputs을 conv2d, relu 통과시킨 뒤의 형태. relu 전후로 형태는 같음."
   ]
  },
  {
   "cell_type": "markdown",
   "id": "d11d4333",
   "metadata": {},
   "source": [
    "### 모델 정의\n",
    "#### nn.Module을 상속받는 클래스 정의.\n",
    "#### __init__(): 모델에서 사용될 모듈과 활성화 함수 등을 정의\n",
    "#### forward(): 모델에서 실행되어야 하는 연산을 정의"
   ]
  },
  {
   "cell_type": "code",
   "execution_count": 194,
   "id": "2b7e7819",
   "metadata": {},
   "outputs": [],
   "source": [
    "class Model(nn.Module):\n",
    "    def __init__(self, inputs):\n",
    "        super(Model, self).__init__() # 상속하고 호출\n",
    "        self.layer = nn.Linear(inputs, 1) # linear 계층 하나, 외부에서 모델 클래스에 값 하나 넣어줌\n",
    "        self.activation = nn.Sigmoid()\n",
    "        \n",
    "    def forward(self, x): # 위에서 정의한 것이 어떻게 연산이 되나.\n",
    "        x = self.layer(x) # 위에서 self.layer 정의한 것을 들어온 x에 대해서 통과시키고\n",
    "        x = self.actication(x) # 그 x값이 다시 활성화함수 통과함\n",
    "        return x"
   ]
  },
  {
   "cell_type": "code",
   "execution_count": 196,
   "id": "33c4e9d1",
   "metadata": {},
   "outputs": [
    {
     "name": "stdout",
     "output_type": "stream",
     "text": [
      "[Linear(in_features=1, out_features=1, bias=True), Sigmoid()]\n",
      "[Model(\n",
      "  (layer): Linear(in_features=1, out_features=1, bias=True)\n",
      "  (activation): Sigmoid()\n",
      "), Linear(in_features=1, out_features=1, bias=True), Sigmoid()]\n"
     ]
    }
   ],
   "source": [
    "model = Model(1)\n",
    "print(list(model.children())) # children 콜하면 계층이 어떤 식으로 들어가있는지 리스트로 변환해 보여줌.\n",
    "print(list(model.modules()))"
   ]
  },
  {
   "cell_type": "markdown",
   "id": "4763d947",
   "metadata": {},
   "source": [
    "#### nn.Sequential 객체로 그 안에 각 모듈을 순차적으로 실행\n",
    "##### __init__()에서 사용할 네트워크 모델들을 nn.Sequential로 정의 가능\n",
    "##### forward()에서 실행되어야 할 계산을 가독성 높게 작성 가능 - forward에서 하나하나 다 호출할 필요 없고 layer나 activation 처럼 sequential로 묶어서 쓸 수 있음"
   ]
  },
  {
   "cell_type": "code",
   "execution_count": 198,
   "id": "ad297ab5",
   "metadata": {},
   "outputs": [],
   "source": [
    "class Model(nn.Module):\n",
    "    def __init__(self): # 값 자체가 안들어가게\n",
    "        super(Model, self).__init__() # 상속, 호출\n",
    "        \n",
    "        self.layer1 = nn.Sequential(\n",
    "            nn.Conv2d(in_channels=3, out_channels=64, kernel_size=5),\n",
    "            nn.ReLU(inplace=True),\n",
    "            nn.MaxPool2d(2)\n",
    "        )\n",
    "        \n",
    "        self.layer2 = nn.Sequential(\n",
    "            nn.Conv2d(in_channels=64, out_channels=30, kernel_size=5),\n",
    "            nn.ReLU(inplace=True),\n",
    "            nn.MaxPool2d(2)\n",
    "        )\n",
    "        \n",
    "        self.layer3 = nn.Sequential(\n",
    "            nn.Linear(in_features=30 * 5 * 5, out_features=10, bias=True),\n",
    "            nn.ReLU(inplace=True),\n",
    "            nn.MaxPool2d(2)\n",
    "        )\n",
    "        \n",
    "        def forward(self, x): # 연산 정의\n",
    "            x = self.layer1(x)\n",
    "            x = self.layer2(x)\n",
    "            # layer3가 Linear 계층이므로 플랫하게 펴줘야함.\n",
    "            x = x.view(x.shape[0], -1) # shape의 첫번째가 기준이고 나머지는 -1 >> 첫 값 기준으로 알아서 계산함\n",
    "            x = self.layer(x)\n",
    "            return x"
   ]
  },
  {
   "cell_type": "markdown",
   "id": "ef550ff7",
   "metadata": {},
   "source": [
    "model = Model()\n",
    "print(list(model.children()))\n",
    "print('-' * 100)\n",
    "print(list(model.modules()))"
   ]
  },
  {
   "cell_type": "markdown",
   "id": "c16f2655",
   "metadata": {},
   "source": [
    "### 모델 파라미터"
   ]
  },
  {
   "cell_type": "markdown",
   "id": "f378eb4c",
   "metadata": {},
   "source": [
    "#### 손실 함수(Loss function)\n",
    "####모델이 동작할 때 모델이 예측한 값과 실제 값 사이의 오차를 측정하여 그 오차를 기준으로 다시 학습을 어떻게 할지 결정함\n",
    "####학습이 진행되며 해당 과정이 얼마나 잘 되고 있는지 나타내는 지표\n",
    "####모델이 훈련되는 동안 최소화될 값으로 주어진 문제에 대한 성공 지표\n",
    "#### 이진 분류: torch.nn.BCELoss, 다중 클래스 분류: torch.nn.CrossEntropyLoss, 회귀 모델: torch.nn.MSELoss"
   ]
  },
  {
   "cell_type": "code",
   "execution_count": 202,
   "id": "e237fee2",
   "metadata": {},
   "outputs": [],
   "source": [
    "criterion = nn.MSELoss()\n",
    "creterion = nn.CrossEntropyLoss()"
   ]
  },
  {
   "cell_type": "markdown",
   "id": "c6218ec2",
   "metadata": {},
   "source": [
    "#### 옵티마이저(Optimizer)\n",
    "##### 손실 함수를 기반으로 모델이 어떻게 업데이트 되어야 하는지 결정(특정 종류의 확률적 경사 하강법 구현)\n",
    "#####  어떤 종류의 경사하강법을 사용할지 결정\n",
    "##### 모든 옵티마이저의 기본으로 torch.optim.Optimizer(params, defaults) 클래스 사용\n",
    "##### torch.optim.lr_scheduler를 사용해 에폭에 따른 lr 조절\n",
    "###### optim.lr_scheduler.ReduceLROnPlateau: 학습이 잘되는지 아닌지에 따라 동적으로 학습률 변화"
   ]
  },
  {
   "cell_type": "markdown",
   "id": "2b238a5b",
   "metadata": {},
   "source": [
    "#### 지표(Metrics)\n",
    "##### 모델의 학습과 테스트 단계를 모니터링"
   ]
  },
  {
   "cell_type": "code",
   "execution_count": 233,
   "id": "52851f3b",
   "metadata": {},
   "outputs": [
    {
     "name": "stdout",
     "output_type": "stream",
     "text": [
      "tensor([[0.0482, 0.0190, 0.0280, 0.6109, 0.2939],\n",
      "        [0.1573, 0.0341, 0.3245, 0.1380, 0.3461],\n",
      "        [0.2718, 0.3079, 0.0356, 0.2430, 0.1416],\n",
      "        [0.4626, 0.0503, 0.0591, 0.2340, 0.1939],\n",
      "        [0.1315, 0.2322, 0.1878, 0.1614, 0.2871],\n",
      "        [0.0384, 0.1598, 0.6556, 0.0765, 0.0698],\n",
      "        [0.0257, 0.7053, 0.1427, 0.0607, 0.0657],\n",
      "        [0.3186, 0.0946, 0.0539, 0.5018, 0.0311],\n",
      "        [0.0349, 0.4592, 0.0287, 0.4041, 0.0732],\n",
      "        [0.2106, 0.1738, 0.4062, 0.0254, 0.1839]]) tensor([1, 1, 2, 0, 2, 0, 4, 1, 3, 3])\n",
      "MulticlassAccuracy()\n"
     ]
    },
    {
     "ename": "TypeError",
     "evalue": "accuracy() missing 1 required positional argument: 'task'",
     "output_type": "error",
     "traceback": [
      "\u001b[1;31m---------------------------------------------------------------------------\u001b[0m",
      "\u001b[1;31mTypeError\u001b[0m                                 Traceback (most recent call last)",
      "Cell \u001b[1;32mIn[233], line 10\u001b[0m\n\u001b[0;32m      8\u001b[0m acc \u001b[38;5;241m=\u001b[39m torchmetrics\u001b[38;5;241m.\u001b[39mAccuracy(task\u001b[38;5;241m=\u001b[39m\u001b[38;5;124m\"\u001b[39m\u001b[38;5;124mmulticlass\u001b[39m\u001b[38;5;124m\"\u001b[39m, num_classes\u001b[38;5;241m=\u001b[39m\u001b[38;5;241m5\u001b[39m)\n\u001b[0;32m      9\u001b[0m \u001b[38;5;28mprint\u001b[39m(acc)\n\u001b[1;32m---> 10\u001b[0m acc \u001b[38;5;241m=\u001b[39m \u001b[43mtorchmetrics\u001b[49m\u001b[38;5;241;43m.\u001b[39;49m\u001b[43mfunctional\u001b[49m\u001b[38;5;241;43m.\u001b[39;49m\u001b[43maccuracy\u001b[49m\u001b[43m(\u001b[49m\u001b[43mpreds\u001b[49m\u001b[43m,\u001b[49m\u001b[43m \u001b[49m\u001b[43mtarget\u001b[49m\u001b[43m)\u001b[49m\n",
      "\u001b[1;31mTypeError\u001b[0m: accuracy() missing 1 required positional argument: 'task'"
     ]
    }
   ],
   "source": [
    "import torchmetrics\n",
    "\n",
    "preds = torch.randn(10, 5).softmax(dim=-1) \n",
    "# 각 10개의 행에 대해서 소프트맥스를 취함. 10개 중 가장 높은 값이 실제 정답이랑 비교하여 얼마나 비슷한지 계산\n",
    "target = torch.randint(5, (10, ))\n",
    "print(preds, target)\n",
    "\n",
    "acc = torchmetrics.Accuracy(task=\"multiclass\", num_classes=5)\n",
    "print(acc)\n",
    "acc = torchmetrics.functional.accuracy(preds, target)"
   ]
  },
  {
   "cell_type": "code",
   "execution_count": 228,
   "id": "5aff3463",
   "metadata": {},
   "outputs": [
    {
     "name": "stdout",
     "output_type": "stream",
     "text": [
      "tensor(0.2000)\n",
      "tensor(0.1000)\n",
      "tensor(0.1000)\n",
      "tensor(0.1000)\n",
      "tensor(0.2000)\n",
      "tensor(0.4000)\n",
      "tensor(0.1000)\n",
      "tensor(0.1000)\n",
      "tensor(0.3000)\n",
      "tensor(0.3000)\n",
      "tensor(0.1900)\n"
     ]
    }
   ],
   "source": [
    "metric = torchmetrics.Accuracy(task=\"multiclass\", num_classes=5)\n",
    "\n",
    "n_batches = 10\n",
    "for i in range(n_batches):\n",
    "    preds = torch.randn(10, 5).softmax(dim=-1)\n",
    "    target = torch.randint(5, (10, ))\n",
    "    \n",
    "    acc = metric(preds, target)\n",
    "    print(acc)\n",
    "acc = metric.compute()\n",
    "print(acc)"
   ]
  },
  {
   "cell_type": "code",
   "execution_count": 237,
   "id": "c24f8ffd",
   "metadata": {},
   "outputs": [
    {
     "name": "stdout",
     "output_type": "stream",
     "text": [
      "tensor([[0.2005, 0.8503, 0.5846],\n",
      "        [0.4210, 0.3036, 0.2615],\n",
      "        [0.9368, 0.4218, 0.3994]])\n",
      "tensor([[-0.7028, -2.0624,  0.8852],\n",
      "        [ 0.2799,  1.7386, -1.1440],\n",
      "        [-0.2004, -0.1161, -0.0662]])\n",
      "tensor([2, 1, 2])\n"
     ]
    }
   ],
   "source": [
    "x = torch.rand(3, 3) # 0~1 사이의 숫자를 균등하게 생성\n",
    "print(x)\n",
    "x = torch.randn(3, 3) # 평균이 0이고 표준편차가 1인 가우시안 정규분포를 이용해 생성\n",
    "print(x)\n",
    "x = torch.randint(3, (3,)) # 주어진 범위 내 정수를 균등하게 생성\n",
    "print(x)"
   ]
  },
  {
   "cell_type": "code",
   "execution_count": 242,
   "id": "f7f8945b",
   "metadata": {
    "scrolled": true
   },
   "outputs": [
    {
     "data": {
      "image/png": "[encoded data removed]",
      "text/plain": [
       "<Figure size 640x480 with 1 Axes>"
      ]
     },
     "metadata": {},
     "output_type": "display_data"
    },
    {
     "name": "stdout",
     "output_type": "stream",
     "text": [
      "tensor([[ 8.9687e+00],\n",
      "        [-3.9366e+00],\n",
      "        [-3.0306e+00],\n",
      "        [-6.6580e+00],\n",
      "        [ 2.1528e+01],\n",
      "        [-5.9125e+00],\n",
      "        [-4.3116e+00],\n",
      "        [ 4.3329e+00],\n",
      "        [ 1.0142e+01],\n",
      "        [ 3.4482e+00],\n",
      "        [-1.9931e+00],\n",
      "        [-1.3690e+01],\n",
      "        [-1.1113e+01],\n",
      "        [-2.2779e+00],\n",
      "        [-6.5130e+00],\n",
      "        [ 6.1730e+00],\n",
      "        [-4.9771e+00],\n",
      "        [ 9.8802e+00],\n",
      "        [ 1.5098e+01],\n",
      "        [-1.0766e+01],\n",
      "        [-1.2892e+01],\n",
      "        [-5.3412e+00],\n",
      "        [ 3.7773e+00],\n",
      "        [-4.3663e+00],\n",
      "        [ 3.1463e+00],\n",
      "        [-9.0688e+00],\n",
      "        [ 1.0085e+01],\n",
      "        [ 1.2156e+01],\n",
      "        [-1.0284e+01],\n",
      "        [ 7.2625e+00],\n",
      "        [ 9.3643e+00],\n",
      "        [ 1.4165e+01],\n",
      "        [-1.0498e+01],\n",
      "        [-8.9584e+00],\n",
      "        [-1.2303e+01],\n",
      "        [-2.3717e-01],\n",
      "        [-1.5772e+01],\n",
      "        [ 2.0627e+00],\n",
      "        [-4.7711e+00],\n",
      "        [ 1.7336e+00],\n",
      "        [ 2.9891e+00],\n",
      "        [-4.4729e+00],\n",
      "        [ 3.7537e+00],\n",
      "        [ 1.3453e+01],\n",
      "        [-1.9668e+00],\n",
      "        [-2.6153e+00],\n",
      "        [ 1.4223e-01],\n",
      "        [-3.3551e+00],\n",
      "        [ 3.0849e+00],\n",
      "        [ 2.1573e+00],\n",
      "        [-1.0621e+01],\n",
      "        [ 6.6874e+00],\n",
      "        [-4.5796e-01],\n",
      "        [ 2.6544e+00],\n",
      "        [-1.5349e+01],\n",
      "        [ 1.2712e+01],\n",
      "        [-1.1416e+01],\n",
      "        [-9.1720e+00],\n",
      "        [-6.4264e+00],\n",
      "        [ 1.6997e+00],\n",
      "        [ 1.1275e+01],\n",
      "        [-3.9962e+00],\n",
      "        [-7.9287e+00],\n",
      "        [-1.1183e+00],\n",
      "        [ 3.2555e+00],\n",
      "        [ 5.4189e+00],\n",
      "        [-4.8965e+00],\n",
      "        [ 2.4279e+01],\n",
      "        [-1.1529e+00],\n",
      "        [ 1.6421e+01],\n",
      "        [-2.4075e+00],\n",
      "        [-1.0698e+01],\n",
      "        [ 5.3450e+00],\n",
      "        [ 3.9426e+00],\n",
      "        [ 1.1087e+01],\n",
      "        [ 9.1026e+00],\n",
      "        [ 1.1218e+01],\n",
      "        [ 2.2645e+00],\n",
      "        [ 4.4181e+00],\n",
      "        [-1.4311e+01],\n",
      "        [ 1.2352e+01],\n",
      "        [ 1.8435e+01],\n",
      "        [-8.4851e+00],\n",
      "        [ 9.9285e+00],\n",
      "        [ 4.6392e+00],\n",
      "        [-7.3555e+00],\n",
      "        [ 9.2145e+00],\n",
      "        [-1.2900e+01],\n",
      "        [ 1.3212e+01],\n",
      "        [ 1.8617e+01],\n",
      "        [-3.3879e+00],\n",
      "        [ 2.7780e+00],\n",
      "        [ 4.7438e+00],\n",
      "        [ 9.8990e+00],\n",
      "        [-1.1706e+00],\n",
      "        [-9.3378e+00],\n",
      "        [-8.0923e+00],\n",
      "        [-1.8958e+00],\n",
      "        [-1.8546e+01],\n",
      "        [-7.2620e+00],\n",
      "        [-4.5054e+00],\n",
      "        [ 9.4247e+00],\n",
      "        [-4.7284e+00],\n",
      "        [ 9.1529e-01],\n",
      "        [ 1.1992e+01],\n",
      "        [-6.1425e+00],\n",
      "        [ 9.7976e+00],\n",
      "        [-3.5388e+00],\n",
      "        [ 5.1386e+00],\n",
      "        [ 8.0129e+00],\n",
      "        [ 1.6077e+01],\n",
      "        [ 1.0170e+01],\n",
      "        [ 9.1225e+00],\n",
      "        [ 6.5802e+00],\n",
      "        [-1.8216e+01],\n",
      "        [ 8.4431e+00],\n",
      "        [ 2.7835e+00],\n",
      "        [ 7.0230e+00],\n",
      "        [-2.5106e+01],\n",
      "        [ 1.5868e+01],\n",
      "        [-7.1238e+00],\n",
      "        [ 6.0144e+00],\n",
      "        [ 1.9490e+01],\n",
      "        [ 6.1564e+00],\n",
      "        [ 4.9213e+00],\n",
      "        [-3.3318e+00],\n",
      "        [-1.1019e+01],\n",
      "        [-4.4218e+00],\n",
      "        [ 1.0026e+01],\n",
      "        [-4.2342e+00],\n",
      "        [-7.7184e+00],\n",
      "        [ 1.1356e+01],\n",
      "        [ 8.3886e+00],\n",
      "        [ 1.0091e+01],\n",
      "        [ 2.1233e+01],\n",
      "        [-2.1526e+01],\n",
      "        [ 1.2588e+01],\n",
      "        [-5.3733e+00],\n",
      "        [-1.4792e+00],\n",
      "        [ 8.2827e-01],\n",
      "        [ 7.5882e+00],\n",
      "        [ 1.1869e+01],\n",
      "        [ 5.6766e+00],\n",
      "        [ 2.7132e+00],\n",
      "        [-6.0016e+00],\n",
      "        [-1.0156e+01],\n",
      "        [ 1.0664e-03],\n",
      "        [-5.4275e+00],\n",
      "        [ 3.3775e+00],\n",
      "        [-1.1420e+00],\n",
      "        [ 3.8842e+00],\n",
      "        [-1.7087e+01],\n",
      "        [ 1.8712e+01],\n",
      "        [ 3.0112e+00],\n",
      "        [-1.7295e+00],\n",
      "        [ 8.6505e+00],\n",
      "        [ 1.4649e+01],\n",
      "        [-1.7951e+01],\n",
      "        [ 1.0513e+01],\n",
      "        [-6.0799e+00],\n",
      "        [ 4.0665e+00],\n",
      "        [-5.6390e+00],\n",
      "        [-8.7874e+00],\n",
      "        [-1.9551e+01],\n",
      "        [ 2.4496e+00],\n",
      "        [ 1.2435e+00],\n",
      "        [ 9.1740e+00],\n",
      "        [-8.6275e+00],\n",
      "        [-6.2070e+00],\n",
      "        [ 3.5443e+00],\n",
      "        [-1.9803e+01],\n",
      "        [ 2.5761e+00],\n",
      "        [-4.0141e+00],\n",
      "        [ 1.3317e+00],\n",
      "        [-4.9377e+00],\n",
      "        [ 1.9701e+00],\n",
      "        [-1.5250e+00],\n",
      "        [ 2.3127e+01],\n",
      "        [-2.1787e+01],\n",
      "        [-5.7609e+00],\n",
      "        [ 1.2391e+00],\n",
      "        [ 3.5789e+00],\n",
      "        [-1.0731e+01],\n",
      "        [-1.1922e+01],\n",
      "        [ 1.1351e+01],\n",
      "        [-1.1094e+01],\n",
      "        [-5.6633e+00],\n",
      "        [-3.2586e+00],\n",
      "        [ 6.0565e+00],\n",
      "        [ 1.1431e+01],\n",
      "        [-1.9969e+01],\n",
      "        [ 9.5686e-01],\n",
      "        [ 1.2351e+01],\n",
      "        [-8.7750e+00],\n",
      "        [ 1.6499e+01],\n",
      "        [-2.0711e+00],\n",
      "        [-9.4406e+00],\n",
      "        [ 1.9462e+00],\n",
      "        [-1.1292e+00],\n",
      "        [-1.3308e+01]])\n",
      "tensor([[ 10.2231],\n",
      "        [  3.4205],\n",
      "        [ -7.6540],\n",
      "        [ -4.9974],\n",
      "        [ 22.7396],\n",
      "        [ -8.2677],\n",
      "        [ -8.5841],\n",
      "        [  7.4967],\n",
      "        [ 12.8081],\n",
      "        [  3.5884],\n",
      "        [ -4.3945],\n",
      "        [ -9.2080],\n",
      "        [-13.5939],\n",
      "        [ -3.5016],\n",
      "        [ -7.8812],\n",
      "        [  6.1378],\n",
      "        [ -7.3473],\n",
      "        [  9.4920],\n",
      "        [ 15.2465],\n",
      "        [-11.1994],\n",
      "        [-16.6554],\n",
      "        [ -3.8015],\n",
      "        [  1.8609],\n",
      "        [ -7.6132],\n",
      "        [  4.2022],\n",
      "        [-12.1695],\n",
      "        [ 16.6985],\n",
      "        [ 14.6672],\n",
      "        [-12.3187],\n",
      "        [  9.7051],\n",
      "        [  4.6355],\n",
      "        [ 10.1591],\n",
      "        [-12.6021],\n",
      "        [-10.0508],\n",
      "        [-13.7470],\n",
      "        [ -4.3855],\n",
      "        [-19.3683],\n",
      "        [  3.7529],\n",
      "        [ -6.4390],\n",
      "        [  2.8927],\n",
      "        [  9.0999],\n",
      "        [ -1.1375],\n",
      "        [  0.7954],\n",
      "        [ 10.5463],\n",
      "        [ -3.9511],\n",
      "        [ -6.2167],\n",
      "        [  4.2716],\n",
      "        [ -8.6094],\n",
      "        [  0.1952],\n",
      "        [  0.5943],\n",
      "        [ -7.5755],\n",
      "        [  6.2902],\n",
      "        [ -3.4788],\n",
      "        [  5.1013],\n",
      "        [-15.6934],\n",
      "        [ 11.5275],\n",
      "        [-11.3324],\n",
      "        [ -7.2764],\n",
      "        [ -7.3891],\n",
      "        [  1.4567],\n",
      "        [ 11.9567],\n",
      "        [ -0.8266],\n",
      "        [ -9.4460],\n",
      "        [ -1.4832],\n",
      "        [  4.3861],\n",
      "        [ -0.3960],\n",
      "        [ -3.4514],\n",
      "        [ 23.6738],\n",
      "        [ -1.0255],\n",
      "        [ 14.0077],\n",
      "        [ -1.2187],\n",
      "        [ -8.3302],\n",
      "        [ 10.3033],\n",
      "        [  9.8455],\n",
      "        [ 13.9703],\n",
      "        [ 12.8546],\n",
      "        [ 14.6025],\n",
      "        [  6.3707],\n",
      "        [  5.3403],\n",
      "        [-14.6382],\n",
      "        [  9.5563],\n",
      "        [ 12.8666],\n",
      "        [ -2.7716],\n",
      "        [ 10.2064],\n",
      "        [  4.3465],\n",
      "        [-13.8095],\n",
      "        [  8.7473],\n",
      "        [-14.8339],\n",
      "        [ 14.7644],\n",
      "        [ 17.0607],\n",
      "        [ -2.6514],\n",
      "        [ -5.7312],\n",
      "        [  8.8534],\n",
      "        [  5.7380],\n",
      "        [  4.9670],\n",
      "        [ -5.5313],\n",
      "        [ -9.2113],\n",
      "        [ -3.2134],\n",
      "        [-19.1710],\n",
      "        [ -9.9220],\n",
      "        [ -7.5175],\n",
      "        [  4.5225],\n",
      "        [ -4.9988],\n",
      "        [  1.4294],\n",
      "        [ 17.0113],\n",
      "        [ -7.2394],\n",
      "        [  9.7465],\n",
      "        [  2.3665],\n",
      "        [  5.3074],\n",
      "        [  6.0157],\n",
      "        [ 14.5485],\n",
      "        [ 12.8365],\n",
      "        [  6.6859],\n",
      "        [ 10.1551],\n",
      "        [-15.9326],\n",
      "        [ 10.2761],\n",
      "        [  3.2551],\n",
      "        [  5.8914],\n",
      "        [-25.7411],\n",
      "        [ 13.5618],\n",
      "        [-13.2371],\n",
      "        [  5.7132],\n",
      "        [ 22.4530],\n",
      "        [  1.3120],\n",
      "        [  6.4000],\n",
      "        [ -4.3269],\n",
      "        [-10.2534],\n",
      "        [ -3.9370],\n",
      "        [  9.0792],\n",
      "        [ -2.5364],\n",
      "        [ -7.8737],\n",
      "        [  6.7673],\n",
      "        [  8.7750],\n",
      "        [ 16.7139],\n",
      "        [ 24.5454],\n",
      "        [-16.2480],\n",
      "        [ 13.9901],\n",
      "        [ -2.2700],\n",
      "        [  2.0494],\n",
      "        [  2.2875],\n",
      "        [  5.5632],\n",
      "        [ 16.5561],\n",
      "        [  3.8053],\n",
      "        [  4.8036],\n",
      "        [ -5.1936],\n",
      "        [ -8.9178],\n",
      "        [  4.9214],\n",
      "        [ -5.3037],\n",
      "        [  5.0561],\n",
      "        [ -1.3945],\n",
      "        [  2.5108],\n",
      "        [-18.0634],\n",
      "        [ 19.9996],\n",
      "        [  3.9920],\n",
      "        [ -0.1177],\n",
      "        [ 12.7748],\n",
      "        [ 14.1700],\n",
      "        [-18.8524],\n",
      "        [ 12.8964],\n",
      "        [ -9.9971],\n",
      "        [  4.8291],\n",
      "        [ -2.4155],\n",
      "        [-11.0480],\n",
      "        [-18.4234],\n",
      "        [ -1.7461],\n",
      "        [  3.0864],\n",
      "        [ 16.9004],\n",
      "        [ -9.5527],\n",
      "        [-10.3502],\n",
      "        [  7.8184],\n",
      "        [-19.5025],\n",
      "        [  2.2289],\n",
      "        [ -3.7279],\n",
      "        [ -0.9506],\n",
      "        [ -2.0083],\n",
      "        [ -3.3572],\n",
      "        [ -0.3776],\n",
      "        [ 17.0486],\n",
      "        [-23.7160],\n",
      "        [ -1.8500],\n",
      "        [  3.6447],\n",
      "        [  6.0648],\n",
      "        [-13.8122],\n",
      "        [-15.8320],\n",
      "        [ 12.2480],\n",
      "        [-14.0015],\n",
      "        [ -3.1801],\n",
      "        [  1.5601],\n",
      "        [  3.3432],\n",
      "        [  8.2511],\n",
      "        [-13.4170],\n",
      "        [  5.2547],\n",
      "        [ 11.2318],\n",
      "        [ -9.0724],\n",
      "        [ 14.1468],\n",
      "        [ -6.7448],\n",
      "        [-10.2424],\n",
      "        [  2.5088],\n",
      "        [ -2.1664],\n",
      "        [-11.4780]])\n"
     ]
    }
   ],
   "source": [
    "X = torch.randn(200, 1) * 10\n",
    "y= X + 3 * torch.randn(200, 1)\n",
    "\n",
    "plt.scatter(X.numpy(), y.numpy())\n",
    "plt.xlabel('x')\n",
    "plt.ylabel('y')\n",
    "plt.grid()\n",
    "plt.show()\n",
    "print(X)\n",
    "print(y)"
   ]
  },
  {
   "cell_type": "markdown",
   "id": "752c24ce",
   "metadata": {},
   "source": [
    "### 모델 정의 및 파라미터"
   ]
  },
  {
   "cell_type": "code",
   "execution_count": 246,
   "id": "fd33dfca",
   "metadata": {},
   "outputs": [],
   "source": [
    "class LinearRegressionModel(nn.Module):\n",
    "    def __init__(self):\n",
    "        super(LinearRegressionModel, self).__init__()\n",
    "        self.linear = nn.Linear(1, 1)\n",
    "    \n",
    "    def forward(self, x):\n",
    "        pred = self.linear(x)\n",
    "        return pred"
   ]
  },
  {
   "cell_type": "code",
   "execution_count": 248,
   "id": "06aab667",
   "metadata": {},
   "outputs": [
    {
     "name": "stdout",
     "output_type": "stream",
     "text": [
      "LinearRegressionModel(\n",
      "  (linear): Linear(in_features=1, out_features=1, bias=True)\n",
      ")\n",
      "[Parameter containing:\n",
      "tensor([[-0.7709]], requires_grad=True), Parameter containing:\n",
      "tensor([0.4261], requires_grad=True)]\n"
     ]
    }
   ],
   "source": [
    "model = LinearRegressionModel()\n",
    "print(model)\n",
    "print(list(model.parameters()))"
   ]
  },
  {
   "cell_type": "code",
   "execution_count": 254,
   "id": "5e23d8d5",
   "metadata": {},
   "outputs": [
    {
     "data": {
      "image/png": "[encoded data removed]",
      "text/plain": [
       "<Figure size 640x480 with 1 Axes>"
      ]
     },
     "metadata": {},
     "output_type": "display_data"
    }
   ],
   "source": [
    "# 현재 파라미터 값 확인 > 초기에 어떤 식으로 돼있는지 확인하려고\n",
    "w, b = model.parameters()\n",
    "\n",
    "w1, b1 = w[0][0].item(), b[0].item()\n",
    "x1  =np.array([-30, 30])\n",
    "y1 = w1 * x1 + b1\n",
    "\n",
    "plt.plot(x1, y1, 'r')\n",
    "plt.scatter(X, y)\n",
    "plt.grid()\n",
    "plt.show()\n",
    "### 빨간 색 선이 초기값. 파란색 동그라미는 아까 만든 임의의 데이터값들. 그 데이터 기준으로 빨간 선처럼 Linear가 결과를 보여줌"
   ]
  },
  {
   "cell_type": "code",
   "execution_count": 250,
   "id": "fb8ce702",
   "metadata": {},
   "outputs": [
    {
     "data": {
      "text/plain": [
       "tensor(-0.7709, grad_fn=<SelectBackward0>)"
      ]
     },
     "execution_count": 250,
     "metadata": {},
     "output_type": "execute_result"
    }
   ],
   "source": [
    "w[0][0]"
   ]
  },
  {
   "cell_type": "code",
   "execution_count": 251,
   "id": "9d4a6467",
   "metadata": {},
   "outputs": [
    {
     "data": {
      "text/plain": [
       "Parameter containing:\n",
       "tensor([[-0.7709]], requires_grad=True)"
      ]
     },
     "execution_count": 251,
     "metadata": {},
     "output_type": "execute_result"
    }
   ],
   "source": [
    "w"
   ]
  },
  {
   "cell_type": "code",
   "execution_count": 252,
   "id": "5fe245ad",
   "metadata": {},
   "outputs": [
    {
     "data": {
      "text/plain": [
       "tensor([-0.7709], grad_fn=<SelectBackward0>)"
      ]
     },
     "execution_count": 252,
     "metadata": {},
     "output_type": "execute_result"
    }
   ],
   "source": [
    "w[0]"
   ]
  },
  {
   "cell_type": "code",
   "execution_count": 253,
   "id": "559d0ef9",
   "metadata": {},
   "outputs": [
    {
     "data": {
      "text/plain": [
       "torch.Size([1, 1])"
      ]
     },
     "execution_count": 253,
     "metadata": {},
     "output_type": "execute_result"
    }
   ],
   "source": [
    "w.shape"
   ]
  },
  {
   "cell_type": "markdown",
   "id": "e3968771",
   "metadata": {},
   "source": [
    "### 손실 함수 및 옵티마이저"
   ]
  },
  {
   "cell_type": "code",
   "execution_count": 257,
   "id": "6f09efef",
   "metadata": {},
   "outputs": [],
   "source": [
    "import torch.optim as optim\n",
    "\n",
    "criterion = nn.MSELoss()\n",
    "optimizer = optim.SGD(model.parameters(), lr=0.001)"
   ]
  },
  {
   "cell_type": "code",
   "execution_count": 260,
   "id": "60750929",
   "metadata": {},
   "outputs": [],
   "source": [
    "epochs = 100\n",
    "losses = []\n",
    "\n",
    "for epoch in range(epochs):\n",
    "    optimizer.zero_grad() # gradient 값 초기에 0으로 초기화\n",
    "    \n",
    "    y_pred = model(X)\n",
    "    loss = criterion(y_pred, y) # 모델이 예측한 값과 실제 값의 차이 계산\n",
    "    losses.append(loss.item())\n",
    "    loss.backward() #  예측한 것을 위해역전파 통한 자동 미분 통한 업데이터 위함\n",
    "    optimizer.step() # 옵티마이저 스텝을 다음 스텝으로\n",
    "    "
   ]
  },
  {
   "cell_type": "code",
   "execution_count": 261,
   "id": "40bb7e78",
   "metadata": {},
   "outputs": [
    {
     "data": {
      "image/png": "[encoded data removed]",
      "text/plain": [
       "<Figure size 640x480 with 1 Axes>"
      ]
     },
     "metadata": {},
     "output_type": "display_data"
    }
   ],
   "source": [
    "# 위의 셀 실행하면 epoch 100번 끝난 것이므로, 수행한 것에 대한 loss값은 lossed에 저장되어있기 때문에 그 리스트를 눈으로 확인\n",
    "plt.plot(range(epochs), losses)\n",
    "plt.xlabel('Epoch')\n",
    "plt.ylabel('Loss')\n",
    "plt.show()"
   ]
  },
  {
   "cell_type": "code",
   "execution_count": 262,
   "id": "838a7caf",
   "metadata": {},
   "outputs": [
    {
     "data": {
      "image/png": "[encoded data removed]",
      "text/plain": [
       "<Figure size 640x480 with 1 Axes>"
      ]
     },
     "metadata": {},
     "output_type": "display_data"
    }
   ],
   "source": [
    "# 학습한 다음에 나온 결과값 시각화\n",
    "w1, b1 = w[0][0].item(), b[0].item()\n",
    "x1  =np.array([-30, 30])\n",
    "y1 = w1 * x1 + b1\n",
    "\n",
    "plt.plot(x1, y1, 'r')\n",
    "plt.scatter(X, y)\n",
    "plt.grid()\n",
    "plt.show()\n",
    "# 기존과 다르게 선형 예측을 잘함. 선형 회귀는 금방 잘 찾음."
   ]
  },
  {
   "cell_type": "markdown",
   "id": "11cafe1a",
   "metadata": {},
   "source": [
    "### Fashion MNIST 분류 모델"
   ]
  },
  {
   "cell_type": "code",
   "execution_count": 263,
   "id": "d9be4741",
   "metadata": {},
   "outputs": [
    {
     "data": {
      "text/plain": [
       "device(type='cuda')"
      ]
     },
     "execution_count": 263,
     "metadata": {},
     "output_type": "execute_result"
    }
   ],
   "source": [
    "device = torch.device('cuda' if torch.cuda.is_available() else 'cpu')\n",
    "device"
   ]
  },
  {
   "cell_type": "markdown",
   "id": "987a53b2",
   "metadata": {},
   "source": [
    "### 데이터 로드"
   ]
  },
  {
   "cell_type": "code",
   "execution_count": 264,
   "id": "2187b954",
   "metadata": {},
   "outputs": [],
   "source": [
    "transform = transforms.Compose([transforms.ToTensor(),\n",
    "                              transforms.Normalize((0.5, ), (0.5, ))])"
   ]
  },
  {
   "cell_type": "code",
   "execution_count": 269,
   "id": "9b578b30",
   "metadata": {},
   "outputs": [
    {
     "name": "stdout",
     "output_type": "stream",
     "text": [
      "Downloading http://fashion-mnist.s3-website.eu-central-1.amazonaws.com/train-images-idx3-ubyte.gz\n",
      "Downloading http://fashion-mnist.s3-website.eu-central-1.amazonaws.com/train-images-idx3-ubyte.gz to ./dataset/FashionMNIST\\raw\\train-images-idx3-ubyte.gz\n"
     ]
    },
    {
     "name": "stderr",
     "output_type": "stream",
     "text": [
      "100.0%\n"
     ]
    },
    {
     "name": "stdout",
     "output_type": "stream",
     "text": [
      "Extracting ./dataset/FashionMNIST\\raw\\train-images-idx3-ubyte.gz to ./dataset/FashionMNIST\\raw\n",
      "\n",
      "Downloading http://fashion-mnist.s3-website.eu-central-1.amazonaws.com/train-labels-idx1-ubyte.gz\n",
      "Downloading http://fashion-mnist.s3-website.eu-central-1.amazonaws.com/train-labels-idx1-ubyte.gz to ./dataset/FashionMNIST\\raw\\train-labels-idx1-ubyte.gz\n"
     ]
    },
    {
     "name": "stderr",
     "output_type": "stream",
     "text": [
      "100.0%\n"
     ]
    },
    {
     "name": "stdout",
     "output_type": "stream",
     "text": [
      "Extracting ./dataset/FashionMNIST\\raw\\train-labels-idx1-ubyte.gz to ./dataset/FashionMNIST\\raw\n",
      "\n",
      "Downloading http://fashion-mnist.s3-website.eu-central-1.amazonaws.com/t10k-images-idx3-ubyte.gz\n",
      "Downloading http://fashion-mnist.s3-website.eu-central-1.amazonaws.com/t10k-images-idx3-ubyte.gz to ./dataset/FashionMNIST\\raw\\t10k-images-idx3-ubyte.gz\n"
     ]
    },
    {
     "name": "stderr",
     "output_type": "stream",
     "text": [
      "100.0%\n"
     ]
    },
    {
     "name": "stdout",
     "output_type": "stream",
     "text": [
      "Extracting ./dataset/FashionMNIST\\raw\\t10k-images-idx3-ubyte.gz to ./dataset/FashionMNIST\\raw\n",
      "\n",
      "Downloading http://fashion-mnist.s3-website.eu-central-1.amazonaws.com/t10k-labels-idx1-ubyte.gz\n",
      "Downloading http://fashion-mnist.s3-website.eu-central-1.amazonaws.com/t10k-labels-idx1-ubyte.gz to ./dataset/FashionMNIST\\raw\\t10k-labels-idx1-ubyte.gz\n"
     ]
    },
    {
     "name": "stderr",
     "output_type": "stream",
     "text": [
      "\r",
      "100.0%"
     ]
    },
    {
     "name": "stdout",
     "output_type": "stream",
     "text": [
      "Extracting ./dataset/FashionMNIST\\raw\\t10k-labels-idx1-ubyte.gz to ./dataset/FashionMNIST\\raw\n",
      "\n"
     ]
    },
    {
     "name": "stderr",
     "output_type": "stream",
     "text": [
      "\n"
     ]
    }
   ],
   "source": [
    "trainset = datasets.FashionMNIST(root='./dataset/', \n",
    "                          train=True, download=True, \n",
    "                          transform=transform)\n",
    "testset = datasets.FashionMNIST(root='./dataset/', \n",
    "                          train=False, download=True, \n",
    "                          transform=transform)"
   ]
  },
  {
   "cell_type": "code",
   "execution_count": 270,
   "id": "bfaf5bc6",
   "metadata": {},
   "outputs": [],
   "source": [
    "train_loader = DataLoader(trainset, batch_size=128, shuffle=True, num_workers=2)\n",
    "test_loader = DataLoader(testset, batch_size=128, shuffle=False, num_workers=2)"
   ]
  },
  {
   "cell_type": "code",
   "execution_count": 271,
   "id": "772936d3",
   "metadata": {},
   "outputs": [
    {
     "data": {
      "text/plain": [
       "(torch.Size([128, 1, 28, 28]), torch.Size([128]))"
      ]
     },
     "execution_count": 271,
     "metadata": {},
     "output_type": "execute_result"
    }
   ],
   "source": [
    "# 데이터 시각화\n",
    "images, labels = next(iter(train_loader))\n",
    "images.shape, labels.shape # 배치사이즈 128"
   ]
  },
  {
   "cell_type": "code",
   "execution_count": 275,
   "id": "7e0d923d",
   "metadata": {},
   "outputs": [
    {
     "data": {
      "image/png": "[encoded data removed]",
      "text/plain": [
       "<Figure size 1200x1200 with 16 Axes>"
      ]
     },
     "metadata": {},
     "output_type": "display_data"
    }
   ],
   "source": [
    "labels_map = {\n",
    "    0:'T-Shirt', 1: 'Trouser', 2: 'Pullover', 3:'Dress', 4:'Coat', 5:'Sandal', 6:'Shirt', 7:'Sneaker', 8:'Bag', 9:'Ankle Boot'\n",
    "}\n",
    "\n",
    "figure = plt.figure(figsize=(12, 12))\n",
    "cols, rows = 4, 4\n",
    "for i in range(1, cols * rows + 1):\n",
    "    image = images[i].squeeze() # 차원이 앞에 들어가있으니 맨 앞 1을 없애려고.\n",
    "    label_idx = labels[i].item() # label의 값 하나만 가져오기\n",
    "    label = labels_map[label_idx] # labels_map에 인덱스값 넣기 > 인덱스 값이 해당하는 문자열로 바뀐게 label에 들어감.\n",
    "    \n",
    "    figure.add_subplot(rows, cols, i)\n",
    "    plt.title(label)\n",
    "    plt.axis('off')\n",
    "    plt.imshow(image, cmap='gray')\n",
    "    \n",
    "plt.show()"
   ]
  },
  {
   "cell_type": "markdown",
   "id": "5ec643a4",
   "metadata": {},
   "source": [
    "### 모델 정의 및 파라미터"
   ]
  },
  {
   "cell_type": "code",
   "execution_count": 307,
   "id": "82bff619",
   "metadata": {},
   "outputs": [
    {
     "name": "stdout",
     "output_type": "stream",
     "text": [
      "NeuralNet(\n",
      "  (conv1): Conv2d(1, 6, kernel_size=(3, 3), stride=(1, 1))\n",
      "  (conv2): Conv2d(6, 16, kernel_size=(3, 3), stride=(1, 1))\n",
      "  (fc1): Linear(in_features=400, out_features=120, bias=True)\n",
      "  (fc2): Linear(in_features=120, out_features=84, bias=True)\n",
      "  (fc3): Linear(in_features=84, out_features=10, bias=True)\n",
      ")\n"
     ]
    }
   ],
   "source": [
    "class NeuralNet(nn.Module):\n",
    "    def __init__(self):\n",
    "        super(NeuralNet, self).__init__()\n",
    "        \n",
    "        self.conv1 = nn.Conv2d(1, 6, 3)\n",
    "        self.conv2 = nn.Conv2d(6, 16, 3)\n",
    "        self.fc1 = nn.Linear(16 * 5 * 5, 120)\n",
    "        self.fc2 = nn.Linear(120, 84)\n",
    "        self.fc3 = nn.Linear(84, 10)\n",
    "        \n",
    "    def forward(self, x):\n",
    "        x = F.max_pool2d(F.relu(self.conv1(x)), (2, 2))\n",
    "        x = F.max_pool2d(F.relu(self.conv2(x)), 2)\n",
    "        # 컨볼루션 거치고 렐루 거치고 풀링\n",
    "        x = x.view(-1, self.num_flat_features(x))\n",
    "        x = F.relu(self.fc1(x))\n",
    "        x = F.relu(self.fc2(x))\n",
    "        x = self.fc3(x)\n",
    "        return x\n",
    "    \n",
    "    def num_flat_features(self, x):\n",
    "        size = x.size()[1:]\n",
    "#         print(size) # torch.Size([16, 5, 5])\n",
    "        num_features = 1\n",
    "        for s in size:\n",
    "            num_features *= s\n",
    "            \n",
    "        return num_features\n",
    "    \n",
    "net = NeuralNet()\n",
    "print(net)"
   ]
  },
  {
   "cell_type": "code",
   "execution_count": 308,
   "id": "59af2823",
   "metadata": {},
   "outputs": [
    {
     "name": "stdout",
     "output_type": "stream",
     "text": [
      "10\n",
      "torch.Size([6, 1, 3, 3])\n"
     ]
    }
   ],
   "source": [
    "params = list(net.parameters())\n",
    "print(len(params))\n",
    "print(params[0].size())"
   ]
  },
  {
   "cell_type": "code",
   "execution_count": 309,
   "id": "9d5deba1",
   "metadata": {},
   "outputs": [
    {
     "data": {
      "text/plain": [
       "(torch.Size([6, 1, 3, 3]),\n",
       " Parameter containing:\n",
       " tensor([[[[-0.0929,  0.1986, -0.1338],\n",
       "           [-0.0581, -0.2834, -0.1171],\n",
       "           [-0.1652, -0.2345, -0.2918]]],\n",
       " \n",
       " \n",
       "         [[[-0.1557, -0.1623, -0.2662],\n",
       "           [ 0.2902, -0.1799, -0.1453],\n",
       "           [ 0.3070,  0.0520, -0.0037]]],\n",
       " \n",
       " \n",
       "         [[[ 0.3119,  0.0836, -0.0752],\n",
       "           [-0.0834, -0.0832, -0.2933],\n",
       "           [ 0.2428,  0.2556, -0.0694]]],\n",
       " \n",
       " \n",
       "         [[[ 0.0092, -0.3321,  0.2190],\n",
       "           [-0.0561, -0.2413, -0.0309],\n",
       "           [ 0.3108,  0.1160,  0.2092]]],\n",
       " \n",
       " \n",
       "         [[[-0.0195, -0.0538,  0.1281],\n",
       "           [ 0.2656, -0.2430, -0.1606],\n",
       "           [ 0.0138,  0.2932,  0.0412]]],\n",
       " \n",
       " \n",
       "         [[[ 0.1411,  0.0211, -0.0245],\n",
       "           [ 0.0922, -0.1570, -0.1604],\n",
       "           [-0.0928,  0.3125,  0.1373]]]], requires_grad=True))"
      ]
     },
     "execution_count": 309,
     "metadata": {},
     "output_type": "execute_result"
    }
   ],
   "source": [
    "params[0].size(), params[0] # 3x3x1 행렬이 6개"
   ]
  },
  {
   "cell_type": "code",
   "execution_count": 310,
   "id": "59d9dae7",
   "metadata": {},
   "outputs": [
    {
     "name": "stdout",
     "output_type": "stream",
     "text": [
      "tensor([[ 0.0694,  0.1030, -0.0725,  0.0244, -0.0800, -0.0969, -0.1120, -0.0863,\n",
      "         -0.0624, -0.0759]], grad_fn=<AddmmBackward0>)\n"
     ]
    }
   ],
   "source": [
    "input = torch.randn(1, 1, 28, 28)\n",
    "out = net(input)\n",
    "print(out)"
   ]
  },
  {
   "cell_type": "markdown",
   "id": "9846a576",
   "metadata": {},
   "source": [
    "### 손실함수와 옵티마이저"
   ]
  },
  {
   "cell_type": "code",
   "execution_count": 311,
   "id": "8a50946e",
   "metadata": {},
   "outputs": [],
   "source": [
    "criterion = nn.CrossEntropyLoss()\n",
    "optimizer = optim.SGD(net.parameters(), lr=0.001, momentum=0.9)"
   ]
  },
  {
   "cell_type": "markdown",
   "id": "7534b331",
   "metadata": {},
   "source": [
    "### 모델 학습"
   ]
  },
  {
   "cell_type": "code",
   "execution_count": 312,
   "id": "c670e508",
   "metadata": {},
   "outputs": [
    {
     "name": "stdout",
     "output_type": "stream",
     "text": [
      "469\n"
     ]
    }
   ],
   "source": [
    "total_batch = len(train_loader)\n",
    "print(total_batch)"
   ]
  },
  {
   "cell_type": "code",
   "execution_count": 313,
   "id": "eb75e518",
   "metadata": {},
   "outputs": [
    {
     "name": "stdout",
     "output_type": "stream",
     "text": [
      "Epoch: 1, Iter: 100, Loss: 0.11482946527004242\n",
      "Epoch: 1, Iter: 200, Loss: 0.1138009706735611\n",
      "Epoch: 1, Iter: 300, Loss: 0.11118977057933807\n",
      "Epoch: 1, Iter: 400, Loss: 0.10217442172765732\n",
      "Epoch: 2, Iter: 100, Loss: 0.058143724739551546\n",
      "Epoch: 2, Iter: 200, Loss: 0.045077178299427034\n",
      "Epoch: 2, Iter: 300, Loss: 0.04117770928144455\n",
      "Epoch: 2, Iter: 400, Loss: 0.038287082225084305\n",
      "Epoch: 3, Iter: 100, Loss: 0.035906190514564514\n",
      "Epoch: 3, Iter: 200, Loss: 0.034148486495018004\n",
      "Epoch: 3, Iter: 300, Loss: 0.03429134127497673\n",
      "Epoch: 3, Iter: 400, Loss: 0.03264632664620876\n",
      "Epoch: 4, Iter: 100, Loss: 0.031703916415572166\n",
      "Epoch: 4, Iter: 200, Loss: 0.03171175028383732\n",
      "Epoch: 4, Iter: 300, Loss: 0.03073830595612526\n",
      "Epoch: 4, Iter: 400, Loss: 0.030079026639461517\n",
      "Epoch: 5, Iter: 100, Loss: 0.029271019950509073\n",
      "Epoch: 5, Iter: 200, Loss: 0.02981489120423794\n",
      "Epoch: 5, Iter: 300, Loss: 0.029002444848418237\n",
      "Epoch: 5, Iter: 400, Loss: 0.028500019177794458\n",
      "Epoch: 6, Iter: 100, Loss: 0.02797087514400482\n",
      "Epoch: 6, Iter: 200, Loss: 0.026988404735922813\n",
      "Epoch: 6, Iter: 300, Loss: 0.026428273290395737\n",
      "Epoch: 6, Iter: 400, Loss: 0.026321257650852203\n",
      "Epoch: 7, Iter: 100, Loss: 0.026042591348290442\n",
      "Epoch: 7, Iter: 200, Loss: 0.02550419944524765\n",
      "Epoch: 7, Iter: 300, Loss: 0.02580535890161991\n",
      "Epoch: 7, Iter: 400, Loss: 0.02598393973708153\n",
      "Epoch: 8, Iter: 100, Loss: 0.025815192013978958\n",
      "Epoch: 8, Iter: 200, Loss: 0.02426961424946785\n",
      "Epoch: 8, Iter: 300, Loss: 0.024363383069634436\n",
      "Epoch: 8, Iter: 400, Loss: 0.02403915610909462\n",
      "Epoch: 9, Iter: 100, Loss: 0.024185461699962617\n",
      "Epoch: 9, Iter: 200, Loss: 0.02326783236861229\n",
      "Epoch: 9, Iter: 300, Loss: 0.02387397573888302\n",
      "Epoch: 9, Iter: 400, Loss: 0.023633985623717307\n",
      "Epoch: 10, Iter: 100, Loss: 0.023122457072138787\n",
      "Epoch: 10, Iter: 200, Loss: 0.02332952871918678\n",
      "Epoch: 10, Iter: 300, Loss: 0.022507972553372384\n",
      "Epoch: 10, Iter: 400, Loss: 0.022111020237207412\n"
     ]
    }
   ],
   "source": [
    "for epoch in range(10):\n",
    "    \n",
    "    running_loss = 0.0\n",
    "    \n",
    "    for i, data in enumerate(train_loader, 0):\n",
    "        inputs, labels = data\n",
    "        \n",
    "        optimizer .zero_grad()\n",
    "        \n",
    "        outputs = net(inputs)\n",
    "        loss = criterion(outputs, labels)\n",
    "        loss.backward()\n",
    "        optimizer.step()\n",
    "        \n",
    "        running_loss += loss.item()\n",
    "        \n",
    "        if i % 100 == 99:\n",
    "            print('Epoch: {}, Iter: {}, Loss: {}'.format(epoch+1, i+1, running_loss/2000))\n",
    "            running_loss = 0.0"
   ]
  },
  {
   "cell_type": "markdown",
   "id": "edad1953",
   "metadata": {},
   "source": [
    "### 모델의 저장 및 로드"
   ]
  },
  {
   "cell_type": "code",
   "execution_count": 314,
   "id": "a954e5d5",
   "metadata": {},
   "outputs": [],
   "source": [
    "PATH = './fashion_mnist.pth'\n",
    "torch.save(net.state_dict(), PATH) # net.state_dict()를 저장"
   ]
  },
  {
   "cell_type": "code",
   "execution_count": 315,
   "id": "f859bde3",
   "metadata": {},
   "outputs": [
    {
     "data": {
      "text/plain": [
       "<All keys matched successfully>"
      ]
     },
     "execution_count": 315,
     "metadata": {},
     "output_type": "execute_result"
    }
   ],
   "source": [
    "net = NeuralNet()\n",
    "net.load_state_dict(torch.load(PATH)) # load_state_dict로 모델을 로드"
   ]
  },
  {
   "cell_type": "code",
   "execution_count": 316,
   "id": "0e9589cc",
   "metadata": {},
   "outputs": [
    {
     "data": {
      "text/plain": [
       "<bound method Module.parameters of NeuralNet(\n",
       "  (conv1): Conv2d(1, 6, kernel_size=(3, 3), stride=(1, 1))\n",
       "  (conv2): Conv2d(6, 16, kernel_size=(3, 3), stride=(1, 1))\n",
       "  (fc1): Linear(in_features=400, out_features=120, bias=True)\n",
       "  (fc2): Linear(in_features=120, out_features=84, bias=True)\n",
       "  (fc3): Linear(in_features=84, out_features=10, bias=True)\n",
       ")>"
      ]
     },
     "execution_count": 316,
     "metadata": {},
     "output_type": "execute_result"
    }
   ],
   "source": [
    "net.parameters"
   ]
  },
  {
   "cell_type": "code",
   "execution_count": 317,
   "id": "57d33edc",
   "metadata": {},
   "outputs": [],
   "source": [
    "def imshow(image):\n",
    "    image = image / 2 + 0.5\n",
    "    npimg = image.numpy()\n",
    "    \n",
    "    fig = plt.figure(figsize=(16, 8))\n",
    "    plt.imshow(np.transpose(npimg, (1, 2, 0))) # RGB 순서 바꿈\n",
    "    plt.show()"
   ]
  },
  {
   "cell_type": "code",
   "execution_count": 318,
   "id": "0159d8f6",
   "metadata": {},
   "outputs": [
    {
     "data": {
      "image/png": "[encoded data removed]",
      "text/plain": [
       "<Figure size 1600x800 with 1 Axes>"
      ]
     },
     "metadata": {},
     "output_type": "display_data"
    }
   ],
   "source": [
    "import torchvision\n",
    "\n",
    "dataiter = iter(test_loader)\n",
    "images, labels = dataiter.next()\n",
    "\n",
    "imshow(torchvision.utils.make_grid(images[:6]))"
   ]
  },
  {
   "cell_type": "code",
   "execution_count": 321,
   "id": "ed527139",
   "metadata": {},
   "outputs": [
    {
     "name": "stdout",
     "output_type": "stream",
     "text": [
      "tensor([9, 2, 1, 1, 6, 1, 6, 6, 5, 7, 4, 5, 5, 3, 4, 1, 2, 6, 8, 0, 2, 7, 7, 5,\n",
      "        1, 2, 4, 0, 9, 4, 8, 8, 3, 3, 8, 0, 7, 5, 7, 9, 0, 1, 4, 9, 4, 7, 2, 1,\n",
      "        2, 6, 2, 2, 5, 8, 4, 2, 8, 4, 8, 0, 7, 7, 8, 5, 1, 1, 3, 4, 7, 8, 7, 0,\n",
      "        2, 6, 4, 3, 1, 2, 8, 4, 1, 8, 5, 9, 5, 0, 3, 2, 0, 2, 5, 3, 6, 7, 1, 8,\n",
      "        0, 1, 4, 2, 3, 4, 7, 2, 7, 8, 5, 7, 9, 4, 2, 5, 7, 0, 5, 2, 8, 4, 7, 8,\n",
      "        0, 0, 9, 9, 3, 0, 8, 4])\n"
     ]
    }
   ],
   "source": [
    "outputs = net(images)\n",
    "\n",
    "_, predicted = torch.max(outputs, 1) # 카테고리가 10개고 모델 마지막 최종결과의 개수가 10가지가 될 수 있으니 10개에 대한 % 결과 중에서 max값이 정답이라고 생각\n",
    "print(predicted)"
   ]
  },
  {
   "cell_type": "code",
   "execution_count": 322,
   "id": "1067ad7e",
   "metadata": {},
   "outputs": [
    {
     "name": "stdout",
     "output_type": "stream",
     "text": [
      "Ankle Boot, Pullover, Trouser, Trouser, Shirt, Trouser, \n"
     ]
    }
   ],
   "source": [
    "print(''.join('{}, '.format(labels_map[int(predicted[j].numpy())]) for j in range(6)))"
   ]
  },
  {
   "cell_type": "code",
   "execution_count": 323,
   "id": "53aaa255",
   "metadata": {},
   "outputs": [
    {
     "name": "stdout",
     "output_type": "stream",
     "text": [
      "82.6\n"
     ]
    }
   ],
   "source": [
    "correct = 0\n",
    "total = 0\n",
    "\n",
    "with torch.no_grad():\n",
    "    for data in test_loader:\n",
    "        images, labels = data\n",
    "        outputs = net(images)\n",
    "        _, predicted = torch.max(outputs.data, 1)\n",
    "        total += labels.size(0)\n",
    "        correct += (predicted == labels).sum().item()\n",
    "        \n",
    "print(100 * correct / total)"
   ]
  },
  {
   "cell_type": "code",
   "execution_count": 324,
   "id": "ce5be20d",
   "metadata": {},
   "outputs": [
    {
     "data": {
      "text/plain": [
       "[tensor([[[[-1., -1., -1.,  ..., -1., -1., -1.],\n",
       "           [-1., -1., -1.,  ..., -1., -1., -1.],\n",
       "           [-1., -1., -1.,  ..., -1., -1., -1.],\n",
       "           ...,\n",
       "           [-1., -1., -1.,  ..., -1., -1., -1.],\n",
       "           [-1., -1., -1.,  ..., -1., -1., -1.],\n",
       "           [-1., -1., -1.,  ..., -1., -1., -1.]]],\n",
       " \n",
       " \n",
       "         [[[-1., -1., -1.,  ..., -1., -1., -1.],\n",
       "           [-1., -1., -1.,  ..., -1., -1., -1.],\n",
       "           [-1., -1., -1.,  ..., -1., -1., -1.],\n",
       "           ...,\n",
       "           [-1., -1., -1.,  ..., -1., -1., -1.],\n",
       "           [-1., -1., -1.,  ..., -1., -1., -1.],\n",
       "           [-1., -1., -1.,  ..., -1., -1., -1.]]],\n",
       " \n",
       " \n",
       "         [[[-1., -1., -1.,  ..., -1., -1., -1.],\n",
       "           [-1., -1., -1.,  ..., -1., -1., -1.],\n",
       "           [-1., -1., -1.,  ..., -1., -1., -1.],\n",
       "           ...,\n",
       "           [-1., -1., -1.,  ..., -1., -1., -1.],\n",
       "           [-1., -1., -1.,  ..., -1., -1., -1.],\n",
       "           [-1., -1., -1.,  ..., -1., -1., -1.]]],\n",
       " \n",
       " \n",
       "         ...,\n",
       " \n",
       " \n",
       "         [[[-1., -1., -1.,  ..., -1., -1., -1.],\n",
       "           [-1., -1., -1.,  ..., -1., -1., -1.],\n",
       "           [-1., -1., -1.,  ..., -1., -1., -1.],\n",
       "           ...,\n",
       "           [-1., -1., -1.,  ..., -1., -1., -1.],\n",
       "           [-1., -1., -1.,  ..., -1., -1., -1.],\n",
       "           [-1., -1., -1.,  ..., -1., -1., -1.]]],\n",
       " \n",
       " \n",
       "         [[[-1., -1., -1.,  ..., -1., -1., -1.],\n",
       "           [-1., -1., -1.,  ..., -1., -1., -1.],\n",
       "           [-1., -1., -1.,  ..., -1., -1., -1.],\n",
       "           ...,\n",
       "           [-1., -1., -1.,  ..., -1., -1., -1.],\n",
       "           [-1., -1., -1.,  ..., -1., -1., -1.],\n",
       "           [-1., -1., -1.,  ..., -1., -1., -1.]]],\n",
       " \n",
       " \n",
       "         [[[-1., -1., -1.,  ..., -1., -1., -1.],\n",
       "           [-1., -1., -1.,  ..., -1., -1., -1.],\n",
       "           [-1., -1., -1.,  ..., -1., -1., -1.],\n",
       "           ...,\n",
       "           [-1., -1., -1.,  ..., -1., -1., -1.],\n",
       "           [-1., -1., -1.,  ..., -1., -1., -1.],\n",
       "           [-1., -1., -1.,  ..., -1., -1., -1.]]]]),\n",
       " tensor([3, 2, 7, 5, 8, 4, 5, 6, 8, 9, 1, 9, 1, 8, 1, 5])]"
      ]
     },
     "execution_count": 324,
     "metadata": {},
     "output_type": "execute_result"
    }
   ],
   "source": [
    "data"
   ]
  },
  {
   "cell_type": "code",
   "execution_count": null,
   "id": "1d22e71c",
   "metadata": {},
   "outputs": [],
   "source": []
  }
 ],
 "metadata": {
  "kernelspec": {
   "display_name": "Python 3 (ipykernel)",
   "language": "python",
   "name": "python3"
  },
  "language_info": {
   "codemirror_mode": {
    "name": "ipython",
    "version": 3
   },
   "file_extension": ".py",
   "mimetype": "text/x-python",
   "name": "python",
   "nbconvert_exporter": "python",
   "pygments_lexer": "ipython3",
   "version": "3.8.16"
  }
 },
 "nbformat": 4,
 "nbformat_minor": 5
}
